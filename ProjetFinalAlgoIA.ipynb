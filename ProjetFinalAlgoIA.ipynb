{
 "cells": [
  {
   "cell_type": "code",
   "execution_count": null,
   "metadata": {},
   "outputs": [],
   "source": [
    "### Partie 1\n",
    "* Decouvrir les librairies pandas, networkx, folium"
   ]
  },
  {
   "cell_type": "code",
   "execution_count": 2,
   "metadata": {},
   "outputs": [],
   "source": [
    "import pandas as pd\n",
    "import networkx as nx\n",
    "import matplotlib.pyplot as plt\n",
    "import csv\n",
    "\n",
    "%matplotlib inline"
   ]
  },
  {
   "cell_type": "markdown",
   "metadata": {},
   "source": [
    "### Lire le fichier de graphe avec pandas en utilisant read_csv\n",
    "* Documentation sur pandas: http://www.python-simple.com/python-pandas/dataframes-indexation.php"
   ]
  },
  {
   "cell_type": "markdown",
   "metadata": {},
   "source": [
    "#### TODO: Utilisez la bibliothéque pandas pour lire les fichiers transport-nodes.csv et transport-relationships.csv"
   ]
  },
  {
   "cell_type": "code",
   "execution_count": 11,
   "metadata": {},
   "outputs": [
    {
     "data": {
      "text/html": [
       "<div>\n",
       "<style scoped>\n",
       "    .dataframe tbody tr th:only-of-type {\n",
       "        vertical-align: middle;\n",
       "    }\n",
       "\n",
       "    .dataframe tbody tr th {\n",
       "        vertical-align: top;\n",
       "    }\n",
       "\n",
       "    .dataframe thead th {\n",
       "        text-align: right;\n",
       "    }\n",
       "</style>\n",
       "<table border=\"1\" class=\"dataframe\">\n",
       "  <thead>\n",
       "    <tr style=\"text-align: right;\">\n",
       "      <th></th>\n",
       "      <th>id</th>\n",
       "      <th>latitude</th>\n",
       "      <th>longitude</th>\n",
       "      <th>population</th>\n",
       "    </tr>\n",
       "  </thead>\n",
       "  <tbody>\n",
       "    <tr>\n",
       "      <td>0</td>\n",
       "      <td>Amsterdam</td>\n",
       "      <td>52.379189</td>\n",
       "      <td>4.899431</td>\n",
       "      <td>821752</td>\n",
       "    </tr>\n",
       "    <tr>\n",
       "      <td>1</td>\n",
       "      <td>Utrecht</td>\n",
       "      <td>52.092876</td>\n",
       "      <td>5.104480</td>\n",
       "      <td>334176</td>\n",
       "    </tr>\n",
       "    <tr>\n",
       "      <td>2</td>\n",
       "      <td>Den Haag</td>\n",
       "      <td>52.078663</td>\n",
       "      <td>4.288788</td>\n",
       "      <td>514861</td>\n",
       "    </tr>\n",
       "    <tr>\n",
       "      <td>3</td>\n",
       "      <td>Immingham</td>\n",
       "      <td>53.612390</td>\n",
       "      <td>-0.222190</td>\n",
       "      <td>9642</td>\n",
       "    </tr>\n",
       "    <tr>\n",
       "      <td>4</td>\n",
       "      <td>Doncaster</td>\n",
       "      <td>53.522850</td>\n",
       "      <td>-1.131160</td>\n",
       "      <td>302400</td>\n",
       "    </tr>\n",
       "    <tr>\n",
       "      <td>5</td>\n",
       "      <td>Hoek van Holland</td>\n",
       "      <td>51.977500</td>\n",
       "      <td>4.133330</td>\n",
       "      <td>9382</td>\n",
       "    </tr>\n",
       "    <tr>\n",
       "      <td>6</td>\n",
       "      <td>Felixstowe</td>\n",
       "      <td>51.963750</td>\n",
       "      <td>1.351100</td>\n",
       "      <td>23689</td>\n",
       "    </tr>\n",
       "    <tr>\n",
       "      <td>7</td>\n",
       "      <td>Ipswich</td>\n",
       "      <td>52.059170</td>\n",
       "      <td>1.155450</td>\n",
       "      <td>133384</td>\n",
       "    </tr>\n",
       "    <tr>\n",
       "      <td>8</td>\n",
       "      <td>Colchester</td>\n",
       "      <td>51.889210</td>\n",
       "      <td>0.904210</td>\n",
       "      <td>104390</td>\n",
       "    </tr>\n",
       "    <tr>\n",
       "      <td>9</td>\n",
       "      <td>London</td>\n",
       "      <td>51.509865</td>\n",
       "      <td>-0.118092</td>\n",
       "      <td>8787892</td>\n",
       "    </tr>\n",
       "    <tr>\n",
       "      <td>10</td>\n",
       "      <td>Rotterdam</td>\n",
       "      <td>51.922500</td>\n",
       "      <td>4.479170</td>\n",
       "      <td>623652</td>\n",
       "    </tr>\n",
       "    <tr>\n",
       "      <td>11</td>\n",
       "      <td>Gouda</td>\n",
       "      <td>52.016670</td>\n",
       "      <td>4.708330</td>\n",
       "      <td>70939</td>\n",
       "    </tr>\n",
       "  </tbody>\n",
       "</table>\n",
       "</div>"
      ],
      "text/plain": [
       "                  id   latitude  longitude  population\n",
       "0          Amsterdam  52.379189   4.899431      821752\n",
       "1            Utrecht  52.092876   5.104480      334176\n",
       "2           Den Haag  52.078663   4.288788      514861\n",
       "3          Immingham  53.612390  -0.222190        9642\n",
       "4          Doncaster  53.522850  -1.131160      302400\n",
       "5   Hoek van Holland  51.977500   4.133330        9382\n",
       "6         Felixstowe  51.963750   1.351100       23689\n",
       "7            Ipswich  52.059170   1.155450      133384\n",
       "8         Colchester  51.889210   0.904210      104390\n",
       "9             London  51.509865  -0.118092     8787892\n",
       "10         Rotterdam  51.922500   4.479170      623652\n",
       "11             Gouda  52.016670   4.708330       70939"
      ]
     },
     "execution_count": 11,
     "metadata": {},
     "output_type": "execute_result"
    }
   ],
   "source": [
    "import pandas as pd\n",
    "pd.read_csv('transport-nodes.csv', sep = ',')"
   ]
  },
  {
   "cell_type": "code",
   "execution_count": 18,
   "metadata": {},
   "outputs": [
    {
     "data": {
      "text/html": [
       "<div>\n",
       "<style scoped>\n",
       "    .dataframe tbody tr th:only-of-type {\n",
       "        vertical-align: middle;\n",
       "    }\n",
       "\n",
       "    .dataframe tbody tr th {\n",
       "        vertical-align: top;\n",
       "    }\n",
       "\n",
       "    .dataframe thead th {\n",
       "        text-align: right;\n",
       "    }\n",
       "</style>\n",
       "<table border=\"1\" class=\"dataframe\">\n",
       "  <thead>\n",
       "    <tr style=\"text-align: right;\">\n",
       "      <th></th>\n",
       "      <th>src</th>\n",
       "      <th>dst</th>\n",
       "      <th>relationship</th>\n",
       "      <th>cost</th>\n",
       "    </tr>\n",
       "  </thead>\n",
       "  <tbody>\n",
       "    <tr>\n",
       "      <td>0</td>\n",
       "      <td>Amsterdam</td>\n",
       "      <td>Utrecht</td>\n",
       "      <td>EROAD</td>\n",
       "      <td>46</td>\n",
       "    </tr>\n",
       "    <tr>\n",
       "      <td>1</td>\n",
       "      <td>Amsterdam</td>\n",
       "      <td>Den Haag</td>\n",
       "      <td>EROAD</td>\n",
       "      <td>59</td>\n",
       "    </tr>\n",
       "    <tr>\n",
       "      <td>2</td>\n",
       "      <td>Den Haag</td>\n",
       "      <td>Rotterdam</td>\n",
       "      <td>EROAD</td>\n",
       "      <td>26</td>\n",
       "    </tr>\n",
       "    <tr>\n",
       "      <td>3</td>\n",
       "      <td>Amsterdam</td>\n",
       "      <td>Immingham</td>\n",
       "      <td>EROAD</td>\n",
       "      <td>369</td>\n",
       "    </tr>\n",
       "    <tr>\n",
       "      <td>4</td>\n",
       "      <td>Immingham</td>\n",
       "      <td>Doncaster</td>\n",
       "      <td>EROAD</td>\n",
       "      <td>74</td>\n",
       "    </tr>\n",
       "    <tr>\n",
       "      <td>5</td>\n",
       "      <td>Doncaster</td>\n",
       "      <td>London</td>\n",
       "      <td>EROAD</td>\n",
       "      <td>277</td>\n",
       "    </tr>\n",
       "    <tr>\n",
       "      <td>6</td>\n",
       "      <td>Hoek van Holland</td>\n",
       "      <td>Den Haag</td>\n",
       "      <td>EROAD</td>\n",
       "      <td>27</td>\n",
       "    </tr>\n",
       "    <tr>\n",
       "      <td>7</td>\n",
       "      <td>Felixstowe</td>\n",
       "      <td>Hoek van Holland</td>\n",
       "      <td>EROAD</td>\n",
       "      <td>207</td>\n",
       "    </tr>\n",
       "    <tr>\n",
       "      <td>8</td>\n",
       "      <td>Ipswich</td>\n",
       "      <td>Felixstowe</td>\n",
       "      <td>EROAD</td>\n",
       "      <td>22</td>\n",
       "    </tr>\n",
       "    <tr>\n",
       "      <td>9</td>\n",
       "      <td>Colchester</td>\n",
       "      <td>Ipswich</td>\n",
       "      <td>EROAD</td>\n",
       "      <td>32</td>\n",
       "    </tr>\n",
       "    <tr>\n",
       "      <td>10</td>\n",
       "      <td>London</td>\n",
       "      <td>Colchester</td>\n",
       "      <td>EROAD</td>\n",
       "      <td>106</td>\n",
       "    </tr>\n",
       "    <tr>\n",
       "      <td>11</td>\n",
       "      <td>Gouda</td>\n",
       "      <td>Rotterdam</td>\n",
       "      <td>EROAD</td>\n",
       "      <td>25</td>\n",
       "    </tr>\n",
       "    <tr>\n",
       "      <td>12</td>\n",
       "      <td>Gouda</td>\n",
       "      <td>Utrecht</td>\n",
       "      <td>EROAD</td>\n",
       "      <td>35</td>\n",
       "    </tr>\n",
       "    <tr>\n",
       "      <td>13</td>\n",
       "      <td>Den Haag</td>\n",
       "      <td>Gouda</td>\n",
       "      <td>EROAD</td>\n",
       "      <td>32</td>\n",
       "    </tr>\n",
       "    <tr>\n",
       "      <td>14</td>\n",
       "      <td>Hoek van Holland</td>\n",
       "      <td>Rotterdam</td>\n",
       "      <td>EROAD</td>\n",
       "      <td>33</td>\n",
       "    </tr>\n",
       "  </tbody>\n",
       "</table>\n",
       "</div>"
      ],
      "text/plain": [
       "                 src               dst relationship  cost\n",
       "0          Amsterdam           Utrecht        EROAD    46\n",
       "1          Amsterdam          Den Haag        EROAD    59\n",
       "2           Den Haag         Rotterdam        EROAD    26\n",
       "3          Amsterdam         Immingham        EROAD   369\n",
       "4          Immingham         Doncaster        EROAD    74\n",
       "5          Doncaster            London        EROAD   277\n",
       "6   Hoek van Holland          Den Haag        EROAD    27\n",
       "7         Felixstowe  Hoek van Holland        EROAD   207\n",
       "8            Ipswich        Felixstowe        EROAD    22\n",
       "9         Colchester           Ipswich        EROAD    32\n",
       "10            London        Colchester        EROAD   106\n",
       "11             Gouda         Rotterdam        EROAD    25\n",
       "12             Gouda           Utrecht        EROAD    35\n",
       "13          Den Haag             Gouda        EROAD    32\n",
       "14  Hoek van Holland         Rotterdam        EROAD    33"
      ]
     },
     "execution_count": 18,
     "metadata": {},
     "output_type": "execute_result"
    }
   ],
   "source": [
    "import pandas as pd\n",
    "df = pd.read_csv('transport-relationships.csv', sep = ',')\n",
    "df"
   ]
  },
  {
   "cell_type": "code",
   "execution_count": 27,
   "metadata": {},
   "outputs": [],
   "source": [
    "### TODO: Construire le graphe et le visualiser  avec la fonction from_pandas_dataframe de networkx\n"
   ]
  },
  {
   "cell_type": "code",
   "execution_count": 17,
   "metadata": {},
   "outputs": [
    {
     "data": {
      "image/png": "[encoded data removed]",
      "text/plain": [
       "<Figure size 432x288 with 1 Axes>"
      ]
     },
     "metadata": {},
     "output_type": "display_data"
    }
   ],
   "source": [
    "import networkx as nx\n",
    "import pandas as pd\n",
    "\n",
    "options = {\n",
    "    'node_color' : 'red'\n",
    "}\n",
    "df = pd.read_csv('transport-relationships.csv')\n",
    "g = nx.from_pandas_edgelist(df, 'src', 'dst' , edge_attr=True)\n",
    "\n",
    "nx.draw(g, **options)"
   ]
  },
  {
   "cell_type": "code",
   "execution_count": 18,
   "metadata": {},
   "outputs": [
    {
     "data": {
      "text/plain": [
       "NodeDataView({'Amsterdam': {}, 'Utrecht': {}, 'Den Haag': {}, 'Rotterdam': {}, 'Immingham': {}, 'Doncaster': {}, 'London': {}, 'Hoek van Holland': {}, 'Felixstowe': {}, 'Ipswich': {}, 'Colchester': {}, 'Gouda': {}})"
      ]
     },
     "execution_count": 18,
     "metadata": {},
     "output_type": "execute_result"
    }
   ],
   "source": [
    "g.node.data()"
   ]
  },
  {
   "cell_type": "code",
   "execution_count": 65,
   "metadata": {},
   "outputs": [],
   "source": [
    "'''\n",
    "Ajouter des attributs\n",
    "Inputs: \n",
    "    Un graphe, \n",
    "    un dataframe contenant les données, \n",
    "    nom de l'attribut, \n",
    "    le nom de la colonne index du dataframe\n",
    "Pas d'output:\n",
    "Utiilisez la fonction set_node_attributes de networkx\n",
    "\n",
    "'''\n",
    "def ajouterAttribut(myGraphe, dfnoeuds, nomAttribut, nomIndex):\n",
    "    Attribut = [nomAttribut for n in dfnoeuds[nomIndex]]\n",
    "    nodes = [n for n in dfnoeuds[nomIndex]] \n",
    "    V = [n for n in dfnoeuds[nomAttribut]]\n",
    "    valeurs = {i1:{i2:i} for i1, i2, i in zip(nodes, Attribut, V)}\n",
    "    \n",
    "    \n",
    "    nx.set_node_attributes(g, valeurs, nomIndex)\n",
    "    "
   ]
  },
  {
   "cell_type": "code",
   "execution_count": 66,
   "metadata": {},
   "outputs": [],
   "source": [
    "transport_nodes = pd.read_csv('transport-nodes.csv', sep = ',')\n",
    "ajouterAttribut(g,transport_nodes,'latitude','id')\n",
    "ajouterAttribut(g,transport_nodes,'longitude','id')\n",
    "ajouterAttribut(g,transport_nodes,'population','id')"
   ]
  },
  {
   "cell_type": "code",
   "execution_count": 67,
   "metadata": {},
   "outputs": [
    {
     "data": {
      "text/plain": [
       "NodeDataView({'Amsterdam': {'latitude': 52.379189000000004, 'longitude': 4.899431, 'population': 821752, 'id': {'population': 821752}}, 'Utrecht': {'latitude': 52.092876000000004, 'longitude': 5.104480000000001, 'population': 334176, 'id': {'population': 334176}}, 'Den Haag': {'latitude': 52.078663, 'longitude': 4.288787999999999, 'population': 514861, 'id': {'population': 514861}}, 'Rotterdam': {'latitude': 51.9225, 'longitude': 4.47917, 'population': 623652, 'id': {'population': 623652}}, 'Immingham': {'latitude': 53.612390000000005, 'longitude': -0.22219, 'population': 9642, 'id': {'population': 9642}}, 'Doncaster': {'latitude': 53.52285, 'longitude': -1.13116, 'population': 302400, 'id': {'population': 302400}}, 'London': {'latitude': 51.509865000000005, 'longitude': -0.118092, 'population': 8787892, 'id': {'population': 8787892}}, 'Hoek van Holland': {'latitude': 51.9775, 'longitude': 4.13333, 'population': 9382, 'id': {'population': 9382}}, 'Felixstowe': {'latitude': 51.96375, 'longitude': 1.3511, 'population': 23689, 'id': {'population': 23689}}, 'Ipswich': {'latitude': 52.05917, 'longitude': 1.15545, 'population': 133384, 'id': {'population': 133384}}, 'Colchester': {'latitude': 51.88921, 'longitude': 0.9042100000000001, 'population': 104390, 'id': {'population': 104390}}, 'Gouda': {'latitude': 52.01667, 'longitude': 4.70833, 'population': 70939, 'id': {'population': 70939}}})"
      ]
     },
     "execution_count": 67,
     "metadata": {},
     "output_type": "execute_result"
    }
   ],
   "source": [
    "g.nodes.data()"
   ]
  },
  {
   "cell_type": "code",
   "execution_count": 68,
   "metadata": {},
   "outputs": [
    {
     "data": {
      "text/plain": [
       "EdgeDataView([('Amsterdam', 'Utrecht', {'src': 'Amsterdam', 'dst': 'Utrecht', 'relationship': 'EROAD', 'cost': 46}), ('Amsterdam', 'Den Haag', {'src': 'Amsterdam', 'dst': 'Den Haag', 'relationship': 'EROAD', 'cost': 59}), ('Amsterdam', 'Immingham', {'src': 'Amsterdam', 'dst': 'Immingham', 'relationship': 'EROAD', 'cost': 369}), ('Utrecht', 'Gouda', {'src': 'Gouda', 'dst': 'Utrecht', 'relationship': 'EROAD', 'cost': 35}), ('Den Haag', 'Rotterdam', {'src': 'Den Haag', 'dst': 'Rotterdam', 'relationship': 'EROAD', 'cost': 26}), ('Den Haag', 'Hoek van Holland', {'src': 'Hoek van Holland', 'dst': 'Den Haag', 'relationship': 'EROAD', 'cost': 27}), ('Den Haag', 'Gouda', {'src': 'Den Haag', 'dst': 'Gouda', 'relationship': 'EROAD', 'cost': 32}), ('Rotterdam', 'Gouda', {'src': 'Gouda', 'dst': 'Rotterdam', 'relationship': 'EROAD', 'cost': 25}), ('Rotterdam', 'Hoek van Holland', {'src': 'Hoek van Holland', 'dst': 'Rotterdam', 'relationship': 'EROAD', 'cost': 33}), ('Immingham', 'Doncaster', {'src': 'Immingham', 'dst': 'Doncaster', 'relationship': 'EROAD', 'cost': 74}), ('Doncaster', 'London', {'src': 'Doncaster', 'dst': 'London', 'relationship': 'EROAD', 'cost': 277}), ('London', 'Colchester', {'src': 'London', 'dst': 'Colchester', 'relationship': 'EROAD', 'cost': 106}), ('Hoek van Holland', 'Felixstowe', {'src': 'Felixstowe', 'dst': 'Hoek van Holland', 'relationship': 'EROAD', 'cost': 207}), ('Felixstowe', 'Ipswich', {'src': 'Ipswich', 'dst': 'Felixstowe', 'relationship': 'EROAD', 'cost': 22}), ('Ipswich', 'Colchester', {'src': 'Colchester', 'dst': 'Ipswich', 'relationship': 'EROAD', 'cost': 32})])"
      ]
     },
     "execution_count": 68,
     "metadata": {},
     "output_type": "execute_result"
    }
   ],
   "source": [
    "g.edges.data()"
   ]
  },
  {
   "cell_type": "raw",
   "metadata": {},
   "source": [
    "Representer les noeuds sur une carte avec Folium"
   ]
  },
  {
   "cell_type": "code",
   "execution_count": 69,
   "metadata": {},
   "outputs": [],
   "source": [
    "import folium\n",
    "'''\n",
    "On construit le Map avec une location par defaut\n",
    "'''\n",
    "basemap = folium.Map(\n",
    "    location=[52.3791890, 4.899431],\n",
    "    zoom_start=12,\n",
    "    tiles='Stamen Toner'\n",
    ")\n",
    "basemap.save('basemap1.html')"
   ]
  },
  {
   "cell_type": "code",
   "execution_count": 70,
   "metadata": {},
   "outputs": [
    {
     "data": {
      "text/html": [
       "<div style=\"width:100%;\"><div style=\"position:relative;width:100%;height:0;padding-bottom:60%;\"><span style=\"color:#565656\">Make this Notebook Trusted to load map: File -> Trust Notebook</span><iframe src=\"about:blank\" style=\"position:absolute;width:100%;height:100%;left:0;top:0;border:none !important;\" data-html=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 onload=\"this.contentDocument.open();this.contentDocument.write(atob(this.getAttribute('data-html')));this.contentDocument.close();\" allowfullscreen webkitallowfullscreen mozallowfullscreen></iframe></div></div>"
      ],
      "text/plain": [
       "<folium.folium.Map at 0x1df96d75908>"
      ]
     },
     "execution_count": 70,
     "metadata": {},
     "output_type": "execute_result"
    }
   ],
   "source": [
    "basemap"
   ]
  },
  {
   "cell_type": "code",
   "execution_count": null,
   "metadata": {},
   "outputs": [],
   "source": [
    "Ajouter des marqueurs pour tous les noeuds du reseau avec folium.Marker"
   ]
  },
  {
   "cell_type": "code",
   "execution_count": 72,
   "metadata": {},
   "outputs": [
    {
     "data": {
      "text/html": [
       "<div style=\"width:100%;\"><div style=\"position:relative;width:100%;height:0;padding-bottom:60%;\"><span style=\"color:#565656\">Make this Notebook Trusted to load map: File -> Trust Notebook</span><iframe src=\"about:blank\" style=\"position:absolute;width:100%;height:100%;left:0;top:0;border:none !important;\" data-html=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 onload=\"this.contentDocument.open();this.contentDocument.write(atob(this.getAttribute('data-html')));this.contentDocument.close();\" allowfullscreen webkitallowfullscreen mozallowfullscreen></iframe></div></div>"
      ],
      "text/plain": [
       "<folium.folium.Map at 0x1df96d75908>"
      ]
     },
     "execution_count": 72,
     "metadata": {},
     "output_type": "execute_result"
    }
   ],
   "source": [
    "\n",
    "for i in g.node:\n",
    "    folium.Marker([g.node[i]['latitude'],g.node[i]['longitude']],tooltip = 'Population '+str(g.node[i]['longitude'])).add_to(basemap)\n",
    "basemap"
   ]
  },
  {
   "cell_type": "code",
   "execution_count": 75,
   "metadata": {},
   "outputs": [],
   "source": [
    "'''\n",
    "Cette fonction permet de construire une liste de liste comprenant pour chaque\n",
    "sous-liste ses coordonnées et celles d'un voisin\n",
    "Ces points peuvent etre utilisés pour représenter les lignes dans la carte\n",
    "Input: le graphe\n",
    "Output: Une liste de couples representant les longitudes et latitudes d'un point et d'un de ses voisins\n",
    "'''\n",
    "def construirePointsImage(myGraphe):\n",
    "    points = []\n",
    "    for i in myGraphe.node:\n",
    "        \n",
    "        for neighbor in myGraphe.neighbors(i):\n",
    "            S = []\n",
    "            S.append([myGraphe.node[i][\"latitude\"],myGraphe.node[i][\"longitude\"]])\n",
    "            S.append([myGraphe.node[neighbor][\"latitude\"],myGraphe.node[neighbor][\"longitude\"]])\n",
    "            points.append(S)\n",
    "    return points\n",
    "        "
   ]
  },
  {
   "cell_type": "code",
   "execution_count": 76,
   "metadata": {},
   "outputs": [
    {
     "data": {
      "text/plain": [
       "[[[52.379189000000004, 4.899431], [52.092876000000004, 5.104480000000001]],\n",
       " [[52.379189000000004, 4.899431], [52.078663, 4.288787999999999]],\n",
       " [[52.379189000000004, 4.899431], [53.612390000000005, -0.22219]],\n",
       " [[52.092876000000004, 5.104480000000001], [52.379189000000004, 4.899431]],\n",
       " [[52.092876000000004, 5.104480000000001], [52.01667, 4.70833]],\n",
       " [[52.078663, 4.288787999999999], [52.379189000000004, 4.899431]],\n",
       " [[52.078663, 4.288787999999999], [51.9225, 4.47917]],\n",
       " [[52.078663, 4.288787999999999], [51.9775, 4.13333]],\n",
       " [[52.078663, 4.288787999999999], [52.01667, 4.70833]],\n",
       " [[51.9225, 4.47917], [52.078663, 4.288787999999999]],\n",
       " [[51.9225, 4.47917], [52.01667, 4.70833]],\n",
       " [[51.9225, 4.47917], [51.9775, 4.13333]],\n",
       " [[53.612390000000005, -0.22219], [52.379189000000004, 4.899431]],\n",
       " [[53.612390000000005, -0.22219], [53.52285, -1.13116]],\n",
       " [[53.52285, -1.13116], [53.612390000000005, -0.22219]],\n",
       " [[53.52285, -1.13116], [51.509865000000005, -0.118092]],\n",
       " [[51.509865000000005, -0.118092], [53.52285, -1.13116]],\n",
       " [[51.509865000000005, -0.118092], [51.88921, 0.9042100000000001]],\n",
       " [[51.9775, 4.13333], [52.078663, 4.288787999999999]],\n",
       " [[51.9775, 4.13333], [51.96375, 1.3511]],\n",
       " [[51.9775, 4.13333], [51.9225, 4.47917]],\n",
       " [[51.96375, 1.3511], [51.9775, 4.13333]],\n",
       " [[51.96375, 1.3511], [52.05917, 1.15545]],\n",
       " [[52.05917, 1.15545], [51.96375, 1.3511]],\n",
       " [[52.05917, 1.15545], [51.88921, 0.9042100000000001]],\n",
       " [[51.88921, 0.9042100000000001], [52.05917, 1.15545]],\n",
       " [[51.88921, 0.9042100000000001], [51.509865000000005, -0.118092]],\n",
       " [[52.01667, 4.70833], [51.9225, 4.47917]],\n",
       " [[52.01667, 4.70833], [52.092876000000004, 5.104480000000001]],\n",
       " [[52.01667, 4.70833], [52.078663, 4.288787999999999]]]"
      ]
     },
     "execution_count": 76,
     "metadata": {},
     "output_type": "execute_result"
    }
   ],
   "source": [
    "coordonneesvoisins = construirePointsImage(g)\n",
    "coordonneesvoisins"
   ]
  },
  {
   "cell_type": "code",
   "execution_count": null,
   "metadata": {},
   "outputs": [],
   "source": [
    "TODO: Visualiser une carte du graphe avec ses noeuds et les arcs sous forme lignes"
   ]
  },
  {
   "cell_type": "code",
   "execution_count": 87,
   "metadata": {},
   "outputs": [],
   "source": [
    "import folium\n",
    "'''\n",
    "A faire\n",
    "Permet de visualiser une carte du graphe avec ses noeuds et les arcs sous forme lignes\n",
    "Prend en entrée:\n",
    "- un graphe\n",
    "- les coordonnées entre chaque point et ses voisins calculées avec la fonction ci-dessus\n",
    "- Une location par defaut\n",
    "- Un paramétrage de folium\n",
    "Output: la carte\n",
    "'''\n",
    "        \n",
    "def visualiserFolium(myGraphe, points, locationpardefaut = [52.3791890, 4.899431],tiles='Stamen Toner' ):\n",
    "    \n",
    "    carte = folium .Map( location = [0, 0] , zoom_start =16)\n",
    "    coordonneesvoisins = construirePointsImage (g)\n",
    "    route = folium . PolyLine ( coordonneesvoisins, color ='red ')\n",
    "    route . add_to ( carte )\n",
    "    carte . save ('monTrajet . html ')\n",
    "    \n"
   ]
  },
  {
   "cell_type": "code",
   "execution_count": 88,
   "metadata": {},
   "outputs": [],
   "source": [
    "visualiserFolium(g, g.node, locationpardefaut = [52.3791890, 4.899431],tiles='Stamen Toner')"
   ]
  },
  {
   "cell_type": "code",
   "execution_count": 1,
   "metadata": {},
   "outputs": [],
   "source": [
    "##Partie 2"
   ]
  },
  {
   "cell_type": "markdown",
   "metadata": {},
   "source": [
    "#### Implementer la classe Noeud\n",
    "* Un noeud a un nom\n",
    "* Un noeud a des attributs sous forme de dictionnaire pyton avec comme cle:\n",
    "    une liste de coordonnes ( latitude, longitude)\n",
    "    \n",
    "    la taille de la population\n",
    "* La liste des voisins sera initialisée à la création des arcs dans le graphe \n",
    "*  Vous ajouterez toutes les methodes nécessaires \n",
    "        \n",
    "    \n",
    "        "
   ]
  },
  {
   "cell_type": "code",
   "execution_count": null,
   "metadata": {},
   "outputs": [],
   "source": [
    "class Noeud:\n",
    "    def __init__(self,name):\n",
    "        self.name = name\n",
    "        self.attributs = {}\n",
    "        self.listeNomVoisin = []\n",
    "        \n",
    "    def setAttribut(self,key, values): \n",
    "        return {x:y for x,y in zip(key, values)}\n",
    "    \n",
    "    def getAttribut(self,key):\n",
    "        return self.key\n",
    "    \n",
    "    def getName(self):\n",
    "        return self.name\n",
    "    '''\n",
    "    Deux noeuds sont egaux s'ils ont même name\n",
    "    '''\n",
    "    def egal(self, noeud):\n",
    "        if self.name == noeud.name:\n",
    "            return self.name == noeud.name"
   ]
  },
  {
   "cell_type": "code",
   "execution_count": null,
   "metadata": {},
   "outputs": [],
   "source": [
    "#### Implementer la classe Graphe\n",
    "* Les noeuds des graphes doivent être initialisé à l'aide du fichier \n",
    "transport-node.csv ( vous n'utiliserez plus pandas). Vous initiliserez aussi les attributs\n",
    "* Les arcs des graphes doivent être initialisé à l'aide du fichier \n",
    "transport-relations.csv ( vous n'utiliserez plus pandas). Vous initiliserez aussi les attributs\n",
    "* On doit pouvoir retrouver les coordonnées d'un noeud grâce à son nom\n",
    "* On doit avoir la liste des noeuds voisins d'un noeud donné. Le graphe est non orienté donc le voisinage est reciproque\n",
    "        "
   ]
  },
  {
   "cell_type": "code",
   "execution_count": 48,
   "metadata": {},
   "outputs": [],
   "source": [
    "import networkx as nx\n",
    "import csv\n",
    "class Graphe:\n",
    "    '''\n",
    "    Les noeuds seront mis dans une liste\n",
    "    Les arcs forment un dictionnaire avec comme clé les noms des noeuds et comme valeurs une liste de noeud\n",
    "    '''\n",
    "    def __init__(self):\n",
    "        self.noeuds = []\n",
    "        self.arcs = {}\n",
    "    '''\n",
    "    Creer les neouds avec un fichier csv\n",
    "    On peut mettre tous les noeuds dans une liste\n",
    "    On doit attribuer à chaque noeud ses attributs: latitude, longitude, population\n",
    "    On initialise le dictionnaire des arcs en creant la cle avec le nom du noeud et la valeur avec une liste vide\n",
    "    N'oubliez pas de gerer les exceptions\n",
    "    '''    \n",
    "    def creerNoeuds(self,fichiernoeuds):\n",
    "        G = nx.Graph()\n",
    "        import csv, sys\n",
    "        with open(fichiernoeuds, newline='') as f:\n",
    "            reader = csv.reader(f)\n",
    "            try:\n",
    "                for row in reader:\n",
    "                    print(row)\n",
    "            except csv.Error as e:\n",
    "                sys.exit('file {}, line {}: {}'.format(fichiernoeuds, reader.line_num, e))\n",
    "        listenoeud = [ i for i in node.fichiernoeuds]\n",
    "        self.noeuds = G.add_nodes_from([self.latitude, self.longitude, self.population])\n",
    "        \n",
    "        return self.noeuds\n",
    "        \n",
    "    '''\n",
    "    - Creer les arcs avec un  fichier csv\n",
    "    - Utilisez un dictionnaire pour les arcs\n",
    "    - N'oubliez pas que le graphe est non oriente.\n",
    "    - Pour chaque noeud on mettra des tuples dans la liste de ses voisins: (nom du voisin, cout du chemin)\n",
    "    - Gerer les exceptions\n",
    "    '''   \n",
    "    def creerArc(self, fichierarcs):\n",
    "        with open(fichierarcs, mode='r') as infile:\n",
    "            reader = csv.reader(infile)\n",
    "            with open(fichierarcs_new, mode='w') as outfile:\n",
    "                writer = csv.writer(outfile)\n",
    "                mydict = dict(row[:2] for row in reader if row)\n",
    "        return mydict\n",
    "    '''\n",
    "    Retrouver un noeud à partir de son nom\n",
    "    '''   \n",
    "    def getNoeud(self,name):\n",
    "        for i in range (len(self.noeuds)):\n",
    "            if self.noeuds[i] == self.name:\n",
    "                return self.noeuds[i]\n",
    "            else:\n",
    "                return False\n",
    "        \n",
    "    '''\n",
    "    Trouver les noeuds voisins d'un noeud donne\n",
    "    '''\n",
    "    def getVoisins(self,noeud):\n",
    "        pass\n",
    "    \n",
    "    '''\n",
    "    Recuperer pour un noeud donne les latitudes et longitudes de ses voisins\n",
    "    Constituer des pairs de listes de coordonnées entre le point et ses voisins\n",
    "    pour une representation sous folium\n",
    "    \n",
    "    '''\n",
    "    def getCoordonnesVoisins(self, noeud):\n",
    "        listecoord = []\n",
    "        # voise est un tuple et je veux recuperer le nom du noeud voisin \n",
    "        # qui est le premier lement du tuple\n",
    "        \n",
    "        for voise in self.getVoisins(noeud):\n",
    "            # Recupere un noeud voisin\n",
    "            noeudVoisin = self.getNoeud(voise[0])\n",
    "            listecoord.append([noeud.getAttribut('coordonnees'),noeudVoisin.getAttribut('coordonnees')])\n",
    "        return listecoord\n",
    "    \n",
    "    '''\n",
    "    Recuperer les coordonnees d'une liste de neouds pour visualiser sous folium\n",
    "    Prend en entrée une liste de nom de noeud\n",
    "    Retourne une liste de sous-listes à deux elements de coordonnées\n",
    "    '''\n",
    "    def getListeCoordonnees(self,listeNoeuds):\n",
    "        coord = []\n",
    "        for name in listeNoeuds:\n",
    "            coord.append(self.getNoeud(name).getAttribut('coordonnees'))\n",
    "        return coord\n",
    "    \n",
    "    '''\n",
    "    Visualiser les noeuds et les arcs sous folium\n",
    "    Entree: le parametre explored sera utilisé pour les parcours de graphe\n",
    "    '''\n",
    "    \n",
    "    def visualiserFolium(self, locationpardefaut = [52.3791890, 4.899431],tiles='Stamen Toner',explored = None ):\n",
    "    \n",
    "        basemap = folium.Map(location= locationpardefaut,zoom_start=6,tiles=tiles)\n",
    "        \n",
    "        \n",
    "        \n",
    "        for i in self.noeuds:\n",
    "            \n",
    "            folium.Marker(i.getAttribut('coordonnees'),tooltip = 'Population '+str(i.getAttribut('population'))).add_to(basemap)\n",
    "            locations = self.getCoordonnesVoisins(i)\n",
    "            if len(locations)!= 0:\n",
    "                folium.PolyLine(self.getCoordonnesVoisins(i), color=\"red\", weight=2.5, opacity=1).add_to(basemap)\n",
    "        if explored != None:\n",
    "            folium.PolyLine(self.getListeCoordonnees(explored), color=\"green\", weight=2.5, opacity=1).add_to(basemap)\n",
    "        return basemap"
   ]
  },
  {
   "cell_type": "code",
   "execution_count": null,
   "metadata": {},
   "outputs": [],
   "source": [
    "G = Graphe()\n",
    "G.creerNoeuds('./data/transport-nodes.csv')"
   ]
  },
  {
   "cell_type": "code",
   "execution_count": null,
   "metadata": {},
   "outputs": [],
   "source": [
    "G.creerArc('./data/transport-relationships.csv')"
   ]
  },
  {
   "cell_type": "code",
   "execution_count": null,
   "metadata": {},
   "outputs": [],
   "source": [
    "G.visualiserFolium()"
   ]
  },
  {
   "cell_type": "code",
   "execution_count": null,
   "metadata": {},
   "outputs": [],
   "source": [
    "Partie 3\n",
    "Implementer les classes File et Pile en utilisant les list en python\n",
    "Quelques liens interessants: https://openclassrooms.com/fr/courses/900279-apprenez-a-programmer-avec-ada/2144666-les-types-abstraits-de-donnees-listes-files-piles\n",
    "https://fr.wikipedia.org/wiki/Type_abstrait\n",
    "\n",
    "http://www.csi.uottawa.ca/~flocchin/CSI2510/CSI2510PileFile.pdf"
   ]
  },
  {
   "cell_type": "code",
   "execution_count": null,
   "metadata": {},
   "outputs": [],
   "source": [
    "\n",
    "class Pile():\n",
    "    '''\n",
    "    Classe Pile: voir les definitions ci-dessous\n",
    "    La classe dispose d'une structure de type list pour ranger les données\n",
    "    Les consultations, les insertions, les suppressions se font du même cote\n",
    "    Dernier arrive premier servi : LIFO\n",
    "    '''\n",
    "    def __init__(self):\n",
    "        self.elements = []\n",
    "    '''\n",
    "    Insere un objet en tete de la pile\n",
    "    '''\n",
    "    def push(self,noeud):\n",
    "       \n",
    "        if self.elements != NULL:\n",
    "            self.elements.index = self.elements.All.index + 1\n",
    "            self.noeud = self.elements.Alll\n",
    "        else:\n",
    "            self.noeud.index = 1\n",
    "           \n",
    "    self.elements = self.noeud ;\n",
    "\n",
    "    '''\n",
    "    Retourne True si  un noeud est dans la pile\n",
    "    '''\n",
    "    \n",
    "    def contains_noeud(self, name):\n",
    "        if self.name in self.elements:\n",
    "            return True\n",
    "                \n",
    "    '''\n",
    "    Retourne true si la pile est vide\n",
    "    '''\n",
    "    def empty(self):\n",
    "        if self.elements = NULL:\n",
    "            return True\n",
    "        \n",
    "    '''\n",
    "    Retourne et supprime l'element en tete de pile\n",
    "    Retourne une exception si la pile est vide\n",
    "    '''\n",
    "    def remove(self):\n",
    "        \n",
    "        if self.All.elements.suivant != NULL:\n",
    "            self.elements = self.elements.suivant ; \n",
    "        else:\n",
    "            self.elements = NULL \n",
    "\n",
    "\n"
   ]
  },
  {
   "cell_type": "code",
   "execution_count": null,
   "metadata": {},
   "outputs": [],
   "source": [
    "class File(Pile):\n",
    "    '''\n",
    "    Classe File: voir les definitions ci-dessous\n",
    "    La classe dispose d'une structure de type list pour ranger les données\n",
    "    Les éléments sont enfilés (insérés) du coté arrière et défilés (retirés)\n",
    "    du coté avant\n",
    "    Premier arrive premier servi : FIFO\n",
    "    File et Pile peuvent partager certaines methodes donc utilisez l'heritage pour definir\n",
    "    la classe File. \n",
    "    Normalement vous ne devez changer l'implementation d'une seule methode\n",
    "    '''\n",
    "\n",
    "    def remove(self):\n",
    "        if self.elements != null:\n",
    "             self.elements.index := self.element.index - 1 \n",
    "        self.elements.noeud\n",
    "  \n",
    "        if self.elements.noeud != NULL:\n",
    "            self.elements.noeud\n",
    "            self.elements = self.elements.noeud\n",
    "        else:\n",
    "            self.elements = NULL \n",
    "      \n",
    "        "
   ]
  },
  {
   "cell_type": "code",
   "execution_count": null,
   "metadata": {},
   "outputs": [],
   "source": [
    "Partie 3\n",
    "Implementer les algorithmes de parcours de graphe: BFS ET DFS\n",
    "Algorithme BFS et DFS https://fr.wikipedia.org/wiki/Algorithme_de_parcours_en_largeur https://fr.wikipedia.org/wiki/Algorithme_de_parcours_en_profondeur Les deux parcours utilisent le même algorithme mais différent suivant la structure de données utilisée comme frontiére. La frontiére est une structure de données qui permet manipuler les noeuds intermediaires.\n",
    "Algorithme\n",
    "On met le noeud source dans la frontiére\n",
    "On cree une structure vide devant contenir les noeuds explorés\n",
    "Repeter\n",
    "Si la frontiere est vide pas de solution\n",
    "Prendre un noeud dans la frontiere ( idée de suppression)\n",
    "Si le noeud est le noeud destination alors solution\n",
    "Sinon:\n",
    "Mettre le noeud dans l'ensemble des noeuds deja explorés\n",
    "Ajouter les voisins dans la frontiére s'ils ne sont pas dans la frontiere et s'ils ne sont pas deja explores"
   ]
  },
  {
   "cell_type": "code",
   "execution_count": null,
   "metadata": {},
   "outputs": [],
   "source": [
    "'''\n",
    "Implémenter le parcours en profondeur non recursif entre deux noeuds\n",
    "Prend en parametre:\n",
    "- un graphe\n",
    "- un noeud source\n",
    "- un noeud destination\n",
    "Output:\n",
    "une liste contenant les noms des noeuds explorés pour aller du noeud source vers le noeud destination \n",
    "Vous completerez certaines parties du code\n",
    "'''\n",
    "\n",
    "def parcoursDFS(myGraphe,noeudSRC,noeudDST):\n",
    "        \"\"\"Trouver un parcours DFS entre noeudSRC et noeudDST\"\"\"\n",
    "\n",
    "        # Le nombre de noeuds explorés\n",
    "        num_explored = 0\n",
    "\n",
    "        # Initialisation de la frontiere avec le noeud source\n",
    "        \n",
    "        frontiere = None \n",
    "        frontiere.push(noeudSRC)\n",
    "\n",
    "        # Initialisation de la liste des noeuds explorés\n",
    "        explored = set()\n",
    "\n",
    "        # On boucle jusuq'à trouver la solution\n",
    "        while True:\n",
    "\n",
    "            # S'il n'y a aucun noeud dans la frontiére alors pas de solution\n",
    "            if frontiere.empty():\n",
    "                raise Exception(\"no solution\")\n",
    "\n",
    "            # Choisir un node dans la frontiere\n",
    "            node = None\n",
    "            num_explored += 1\n",
    "\n",
    "            # Si ce noeud est le noeud destination\n",
    "            if node.egal(noeudDST):\n",
    "                \n",
    "                # Ajouter le aux noeuds deja explorés\n",
    "                explored.add(noeudDST.name)\n",
    "                \n",
    "                return explored, num_explored\n",
    "\n",
    "            # Marquer le noeud comme explore\n",
    "            explored......\n",
    "\n",
    "            # Ajouter tous les voisins du noeud à la frontiere\n",
    "            for n in myGraphe.getVoisins(node):\n",
    "                \n",
    "                if not frontiere.contains_noeud(n[0]) and n[0] not in explored:\n",
    "                    \n",
    "                    frontiere...................\n",
    "\n"
   ]
  },
  {
   "cell_type": "code",
   "execution_count": null,
   "metadata": {},
   "outputs": [],
   "source": [
    "# Visualisation des arcs en rouge et visualisation des noeuds parcourus pour aller du premier au deuxieme noeud en vert\n",
    "G.visualiserFolium(explored = list(parcoursDFS(G,G.noeuds[0],G.noeuds[1])[0]))"
   ]
  },
  {
   "cell_type": "code",
   "execution_count": null,
   "metadata": {},
   "outputs": [],
   "source": [
    "#### TODO: Implementer le parcours en profondeur recursif et calculer le coût du chemin"
   ]
  },
  {
   "cell_type": "code",
   "execution_count": null,
   "metadata": {},
   "outputs": [],
   "source": [
    "#### TODO: Implementer le parcours BFS et calculer le coût du chemin"
   ]
  },
  {
   "cell_type": "code",
   "execution_count": null,
   "metadata": {},
   "outputs": [],
   "source": [
    "'''\n",
    "Implémenter le parcours en largeur non entre deux noeuds\n",
    "'''\n",
    "\n",
    "def parcoursBFS(myGraphe,noeudSRC,noeudDST):\n",
    "    pass\n",
    "        \"\"\"Trouver un parcours DFS entre noeudSRC et noeudDST\"\"\"\n"
   ]
  },
  {
   "cell_type": "code",
   "execution_count": null,
   "metadata": {},
   "outputs": [],
   "source": [
    "G.visualiserFolium(explored = list(parcoursBFS(G,G.noeuds[0],G.noeuds[1])[0]))"
   ]
  },
  {
   "cell_type": "code",
   "execution_count": null,
   "metadata": {},
   "outputs": [],
   "source": [
    "Partie 4\n",
    "Implementer les algorithmes A star où le choix se portera sur le voisin ayant le plus petit coût\n",
    "TODO: Implementer le parcours avec l'algorithme du Greedy Best First Search. Vous calculerez les coûts de chape noeud par rapport\n",
    "au noeud destination\n",
    "\n",
    "TODO: Implementer le parcours avec l'algorithme du A*. Vous calculerez les coûts de chape noeud par rapport\n",
    "au noeud destination et au noeud origine\n",
    "\n",
    "https://www.mygreatlearning.com/blog/best-first-search-bfs/"
   ]
  }
 ],
 "metadata": {
  "kernelspec": {
   "display_name": "Python 3",
   "language": "python",
   "name": "python3"
  },
  "language_info": {
   "codemirror_mode": {
    "name": "ipython",
    "version": 3
   },
   "file_extension": ".py",
   "mimetype": "text/x-python",
   "name": "python",
   "nbconvert_exporter": "python",
   "pygments_lexer": "ipython3",
   "version": "3.7.4"
  }
 },
 "nbformat": 4,
 "nbformat_minor": 2
}
