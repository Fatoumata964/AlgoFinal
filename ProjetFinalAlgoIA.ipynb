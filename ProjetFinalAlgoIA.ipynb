{
 "cells": [
  {
   "cell_type": "code",
   "execution_count": null,
   "metadata": {},
   "outputs": [],
   "source": [
    "### Partie 1\n",
    "* Decouvrir les librairies pandas, networkx, folium"
   ]
  },
  {
   "cell_type": "code",
   "execution_count": 2,
   "metadata": {},
   "outputs": [],
   "source": [
    "import pandas as pd\n",
    "import networkx as nx\n",
    "import matplotlib.pyplot as plt\n",
    "import csv\n",
    "\n",
    "%matplotlib inline"
   ]
  },
  {
   "cell_type": "markdown",
   "metadata": {},
   "source": [
    "### Lire le fichier de graphe avec pandas en utilisant read_csv\n",
    "* Documentation sur pandas: http://www.python-simple.com/python-pandas/dataframes-indexation.php"
   ]
  },
  {
   "cell_type": "markdown",
   "metadata": {},
   "source": [
    "#### TODO: Utilisez la bibliothéque pandas pour lire les fichiers transport-nodes.csv et transport-relationships.csv"
   ]
  },
  {
   "cell_type": "code",
   "execution_count": 22,
   "metadata": {},
   "outputs": [
    {
     "data": {
      "text/html": [
       "<div>\n",
       "<style scoped>\n",
       "    .dataframe tbody tr th:only-of-type {\n",
       "        vertical-align: middle;\n",
       "    }\n",
       "\n",
       "    .dataframe tbody tr th {\n",
       "        vertical-align: top;\n",
       "    }\n",
       "\n",
       "    .dataframe thead th {\n",
       "        text-align: right;\n",
       "    }\n",
       "</style>\n",
       "<table border=\"1\" class=\"dataframe\">\n",
       "  <thead>\n",
       "    <tr style=\"text-align: right;\">\n",
       "      <th></th>\n",
       "      <th>id</th>\n",
       "      <th>latitude</th>\n",
       "      <th>longitude</th>\n",
       "      <th>population</th>\n",
       "    </tr>\n",
       "  </thead>\n",
       "  <tbody>\n",
       "    <tr>\n",
       "      <td>0</td>\n",
       "      <td>Amsterdam</td>\n",
       "      <td>52.379189</td>\n",
       "      <td>4.899431</td>\n",
       "      <td>821752</td>\n",
       "    </tr>\n",
       "    <tr>\n",
       "      <td>1</td>\n",
       "      <td>Utrecht</td>\n",
       "      <td>52.092876</td>\n",
       "      <td>5.104480</td>\n",
       "      <td>334176</td>\n",
       "    </tr>\n",
       "    <tr>\n",
       "      <td>2</td>\n",
       "      <td>Den Haag</td>\n",
       "      <td>52.078663</td>\n",
       "      <td>4.288788</td>\n",
       "      <td>514861</td>\n",
       "    </tr>\n",
       "    <tr>\n",
       "      <td>3</td>\n",
       "      <td>Immingham</td>\n",
       "      <td>53.612390</td>\n",
       "      <td>-0.222190</td>\n",
       "      <td>9642</td>\n",
       "    </tr>\n",
       "    <tr>\n",
       "      <td>4</td>\n",
       "      <td>Doncaster</td>\n",
       "      <td>53.522850</td>\n",
       "      <td>-1.131160</td>\n",
       "      <td>302400</td>\n",
       "    </tr>\n",
       "    <tr>\n",
       "      <td>5</td>\n",
       "      <td>Hoek van Holland</td>\n",
       "      <td>51.977500</td>\n",
       "      <td>4.133330</td>\n",
       "      <td>9382</td>\n",
       "    </tr>\n",
       "    <tr>\n",
       "      <td>6</td>\n",
       "      <td>Felixstowe</td>\n",
       "      <td>51.963750</td>\n",
       "      <td>1.351100</td>\n",
       "      <td>23689</td>\n",
       "    </tr>\n",
       "    <tr>\n",
       "      <td>7</td>\n",
       "      <td>Ipswich</td>\n",
       "      <td>52.059170</td>\n",
       "      <td>1.155450</td>\n",
       "      <td>133384</td>\n",
       "    </tr>\n",
       "    <tr>\n",
       "      <td>8</td>\n",
       "      <td>Colchester</td>\n",
       "      <td>51.889210</td>\n",
       "      <td>0.904210</td>\n",
       "      <td>104390</td>\n",
       "    </tr>\n",
       "    <tr>\n",
       "      <td>9</td>\n",
       "      <td>London</td>\n",
       "      <td>51.509865</td>\n",
       "      <td>-0.118092</td>\n",
       "      <td>8787892</td>\n",
       "    </tr>\n",
       "    <tr>\n",
       "      <td>10</td>\n",
       "      <td>Rotterdam</td>\n",
       "      <td>51.922500</td>\n",
       "      <td>4.479170</td>\n",
       "      <td>623652</td>\n",
       "    </tr>\n",
       "    <tr>\n",
       "      <td>11</td>\n",
       "      <td>Gouda</td>\n",
       "      <td>52.016670</td>\n",
       "      <td>4.708330</td>\n",
       "      <td>70939</td>\n",
       "    </tr>\n",
       "  </tbody>\n",
       "</table>\n",
       "</div>"
      ],
      "text/plain": [
       "                  id   latitude  longitude  population\n",
       "0          Amsterdam  52.379189   4.899431      821752\n",
       "1            Utrecht  52.092876   5.104480      334176\n",
       "2           Den Haag  52.078663   4.288788      514861\n",
       "3          Immingham  53.612390  -0.222190        9642\n",
       "4          Doncaster  53.522850  -1.131160      302400\n",
       "5   Hoek van Holland  51.977500   4.133330        9382\n",
       "6         Felixstowe  51.963750   1.351100       23689\n",
       "7            Ipswich  52.059170   1.155450      133384\n",
       "8         Colchester  51.889210   0.904210      104390\n",
       "9             London  51.509865  -0.118092     8787892\n",
       "10         Rotterdam  51.922500   4.479170      623652\n",
       "11             Gouda  52.016670   4.708330       70939"
      ]
     },
     "execution_count": 22,
     "metadata": {},
     "output_type": "execute_result"
    }
   ],
   "source": [
    "import pandas as pd\n",
    "pd.read_csv('transport-nodes.csv', sep = ',')"
   ]
  },
  {
   "cell_type": "code",
   "execution_count": 18,
   "metadata": {},
   "outputs": [
    {
     "data": {
      "text/html": [
       "<div>\n",
       "<style scoped>\n",
       "    .dataframe tbody tr th:only-of-type {\n",
       "        vertical-align: middle;\n",
       "    }\n",
       "\n",
       "    .dataframe tbody tr th {\n",
       "        vertical-align: top;\n",
       "    }\n",
       "\n",
       "    .dataframe thead th {\n",
       "        text-align: right;\n",
       "    }\n",
       "</style>\n",
       "<table border=\"1\" class=\"dataframe\">\n",
       "  <thead>\n",
       "    <tr style=\"text-align: right;\">\n",
       "      <th></th>\n",
       "      <th>src</th>\n",
       "      <th>dst</th>\n",
       "      <th>relationship</th>\n",
       "      <th>cost</th>\n",
       "    </tr>\n",
       "  </thead>\n",
       "  <tbody>\n",
       "    <tr>\n",
       "      <td>0</td>\n",
       "      <td>Amsterdam</td>\n",
       "      <td>Utrecht</td>\n",
       "      <td>EROAD</td>\n",
       "      <td>46</td>\n",
       "    </tr>\n",
       "    <tr>\n",
       "      <td>1</td>\n",
       "      <td>Amsterdam</td>\n",
       "      <td>Den Haag</td>\n",
       "      <td>EROAD</td>\n",
       "      <td>59</td>\n",
       "    </tr>\n",
       "    <tr>\n",
       "      <td>2</td>\n",
       "      <td>Den Haag</td>\n",
       "      <td>Rotterdam</td>\n",
       "      <td>EROAD</td>\n",
       "      <td>26</td>\n",
       "    </tr>\n",
       "    <tr>\n",
       "      <td>3</td>\n",
       "      <td>Amsterdam</td>\n",
       "      <td>Immingham</td>\n",
       "      <td>EROAD</td>\n",
       "      <td>369</td>\n",
       "    </tr>\n",
       "    <tr>\n",
       "      <td>4</td>\n",
       "      <td>Immingham</td>\n",
       "      <td>Doncaster</td>\n",
       "      <td>EROAD</td>\n",
       "      <td>74</td>\n",
       "    </tr>\n",
       "    <tr>\n",
       "      <td>5</td>\n",
       "      <td>Doncaster</td>\n",
       "      <td>London</td>\n",
       "      <td>EROAD</td>\n",
       "      <td>277</td>\n",
       "    </tr>\n",
       "    <tr>\n",
       "      <td>6</td>\n",
       "      <td>Hoek van Holland</td>\n",
       "      <td>Den Haag</td>\n",
       "      <td>EROAD</td>\n",
       "      <td>27</td>\n",
       "    </tr>\n",
       "    <tr>\n",
       "      <td>7</td>\n",
       "      <td>Felixstowe</td>\n",
       "      <td>Hoek van Holland</td>\n",
       "      <td>EROAD</td>\n",
       "      <td>207</td>\n",
       "    </tr>\n",
       "    <tr>\n",
       "      <td>8</td>\n",
       "      <td>Ipswich</td>\n",
       "      <td>Felixstowe</td>\n",
       "      <td>EROAD</td>\n",
       "      <td>22</td>\n",
       "    </tr>\n",
       "    <tr>\n",
       "      <td>9</td>\n",
       "      <td>Colchester</td>\n",
       "      <td>Ipswich</td>\n",
       "      <td>EROAD</td>\n",
       "      <td>32</td>\n",
       "    </tr>\n",
       "    <tr>\n",
       "      <td>10</td>\n",
       "      <td>London</td>\n",
       "      <td>Colchester</td>\n",
       "      <td>EROAD</td>\n",
       "      <td>106</td>\n",
       "    </tr>\n",
       "    <tr>\n",
       "      <td>11</td>\n",
       "      <td>Gouda</td>\n",
       "      <td>Rotterdam</td>\n",
       "      <td>EROAD</td>\n",
       "      <td>25</td>\n",
       "    </tr>\n",
       "    <tr>\n",
       "      <td>12</td>\n",
       "      <td>Gouda</td>\n",
       "      <td>Utrecht</td>\n",
       "      <td>EROAD</td>\n",
       "      <td>35</td>\n",
       "    </tr>\n",
       "    <tr>\n",
       "      <td>13</td>\n",
       "      <td>Den Haag</td>\n",
       "      <td>Gouda</td>\n",
       "      <td>EROAD</td>\n",
       "      <td>32</td>\n",
       "    </tr>\n",
       "    <tr>\n",
       "      <td>14</td>\n",
       "      <td>Hoek van Holland</td>\n",
       "      <td>Rotterdam</td>\n",
       "      <td>EROAD</td>\n",
       "      <td>33</td>\n",
       "    </tr>\n",
       "  </tbody>\n",
       "</table>\n",
       "</div>"
      ],
      "text/plain": [
       "                 src               dst relationship  cost\n",
       "0          Amsterdam           Utrecht        EROAD    46\n",
       "1          Amsterdam          Den Haag        EROAD    59\n",
       "2           Den Haag         Rotterdam        EROAD    26\n",
       "3          Amsterdam         Immingham        EROAD   369\n",
       "4          Immingham         Doncaster        EROAD    74\n",
       "5          Doncaster            London        EROAD   277\n",
       "6   Hoek van Holland          Den Haag        EROAD    27\n",
       "7         Felixstowe  Hoek van Holland        EROAD   207\n",
       "8            Ipswich        Felixstowe        EROAD    22\n",
       "9         Colchester           Ipswich        EROAD    32\n",
       "10            London        Colchester        EROAD   106\n",
       "11             Gouda         Rotterdam        EROAD    25\n",
       "12             Gouda           Utrecht        EROAD    35\n",
       "13          Den Haag             Gouda        EROAD    32\n",
       "14  Hoek van Holland         Rotterdam        EROAD    33"
      ]
     },
     "execution_count": 18,
     "metadata": {},
     "output_type": "execute_result"
    }
   ],
   "source": [
    "import pandas as pd\n",
    "df = pd.read_csv('transport-relationships.csv', sep = ',')\n",
    "df"
   ]
  },
  {
   "cell_type": "code",
   "execution_count": 27,
   "metadata": {},
   "outputs": [],
   "source": [
    "### TODO: Construire le graphe et le visualiser  avec la fonction from_pandas_dataframe de networkx\n"
   ]
  },
  {
   "cell_type": "code",
   "execution_count": 5,
   "metadata": {},
   "outputs": [
    {
     "data": {
      "image/png": "[encoded data removed]",
      "text/plain": [
       "<Figure size 432x288 with 1 Axes>"
      ]
     },
     "metadata": {},
     "output_type": "display_data"
    }
   ],
   "source": [
    "import networkx as nx\n",
    "import pandas as pd\n",
    "\n",
    "options = {\n",
    "    'node_color' : 'red'\n",
    "}\n",
    "df = pd.read_csv('transport-relationships.csv')\n",
    "g = nx.from_pandas_edgelist(df, 'src', 'dst' , edge_attr=True)\n",
    "\n",
    "nx.draw(g, **options)"
   ]
  },
  {
   "cell_type": "code",
   "execution_count": 6,
   "metadata": {},
   "outputs": [
    {
     "data": {
      "text/plain": [
       "NodeDataView({'Amsterdam': {}, 'Utrecht': {}, 'Den Haag': {}, 'Rotterdam': {}, 'Immingham': {}, 'Doncaster': {}, 'London': {}, 'Hoek van Holland': {}, 'Felixstowe': {}, 'Ipswich': {}, 'Colchester': {}, 'Gouda': {}})"
      ]
     },
     "execution_count": 6,
     "metadata": {},
     "output_type": "execute_result"
    }
   ],
   "source": [
    "g.node.data()"
   ]
  },
  {
   "cell_type": "code",
   "execution_count": 7,
   "metadata": {},
   "outputs": [],
   "source": [
    "'''\n",
    "Ajouter des attributs\n",
    "Inputs: \n",
    "    Un graphe, \n",
    "    un dataframe contenant les données, \n",
    "    nom de l'attribut, \n",
    "    le nom de la colonne index du dataframe\n",
    "Pas d'output:\n",
    "Utiilisez la fonction set_node_attributes de networkx\n",
    "\n",
    "'''\n",
    "def ajouterAttribut(myGraphe, dfnoeuds, nomAttribut, nomIndex):\n",
    "    \n",
    "    mydict={}\n",
    "    for i in range(len(dfnoeuds[nomIndex])):\n",
    "        mydict[dfnoeuds[nomIndex][i]] = dfnoeuds[nomAttribut][i]\n",
    "    nx.set_node_attributes(myGraphe, mydict, nomAttribut)\n",
    "    "
   ]
  },
  {
   "cell_type": "code",
   "execution_count": 9,
   "metadata": {},
   "outputs": [],
   "source": [
    "transport_nodes = pd.read_csv('transport-nodes.csv')\n",
    "ajouterAttribut(g,transport_nodes,'latitude','id')\n",
    "ajouterAttribut(g,transport_nodes,'longitude','id')\n",
    "ajouterAttribut(g,transport_nodes,'population','id')"
   ]
  },
  {
   "cell_type": "code",
   "execution_count": 31,
   "metadata": {},
   "outputs": [
    {
     "data": {
      "text/plain": [
       "NodeDataView({'Amsterdam': {'id': {'population': 821752}, 'latitude': 52.379189000000004, 'longitude': 4.899431, 'population': 821752}, 'Utrecht': {'id': {'population': 334176}, 'latitude': 52.092876000000004, 'longitude': 5.104480000000001, 'population': 334176}, 'Den Haag': {'id': {'population': 514861}, 'latitude': 52.078663, 'longitude': 4.288787999999999, 'population': 514861}, 'Rotterdam': {'id': {'population': 623652}, 'latitude': 51.9225, 'longitude': 4.47917, 'population': 623652}, 'Immingham': {'id': {'population': 9642}, 'latitude': 53.612390000000005, 'longitude': -0.22219, 'population': 9642}, 'Doncaster': {'id': {'population': 302400}, 'latitude': 53.52285, 'longitude': -1.13116, 'population': 302400}, 'London': {'id': {'population': 8787892}, 'latitude': 51.509865000000005, 'longitude': -0.118092, 'population': 8787892}, 'Hoek van Holland': {'id': {'population': 9382}, 'latitude': 51.9775, 'longitude': 4.13333, 'population': 9382}, 'Felixstowe': {'id': {'population': 23689}, 'latitude': 51.96375, 'longitude': 1.3511, 'population': 23689}, 'Ipswich': {'id': {'population': 133384}, 'latitude': 52.05917, 'longitude': 1.15545, 'population': 133384}, 'Colchester': {'id': {'population': 104390}, 'latitude': 51.88921, 'longitude': 0.9042100000000001, 'population': 104390}, 'Gouda': {'id': {'population': 70939}, 'latitude': 52.01667, 'longitude': 4.70833, 'population': 70939}})"
      ]
     },
     "execution_count": 31,
     "metadata": {},
     "output_type": "execute_result"
    }
   ],
   "source": [
    "g.nodes.data()"
   ]
  },
  {
   "cell_type": "code",
   "execution_count": 32,
   "metadata": {},
   "outputs": [
    {
     "data": {
      "text/plain": [
       "EdgeDataView([('Amsterdam', 'Utrecht', {'src': 'Amsterdam', 'dst': 'Utrecht', 'relationship': 'EROAD', 'cost': 46}), ('Amsterdam', 'Den Haag', {'src': 'Amsterdam', 'dst': 'Den Haag', 'relationship': 'EROAD', 'cost': 59}), ('Amsterdam', 'Immingham', {'src': 'Amsterdam', 'dst': 'Immingham', 'relationship': 'EROAD', 'cost': 369}), ('Utrecht', 'Gouda', {'src': 'Gouda', 'dst': 'Utrecht', 'relationship': 'EROAD', 'cost': 35}), ('Den Haag', 'Rotterdam', {'src': 'Den Haag', 'dst': 'Rotterdam', 'relationship': 'EROAD', 'cost': 26}), ('Den Haag', 'Hoek van Holland', {'src': 'Hoek van Holland', 'dst': 'Den Haag', 'relationship': 'EROAD', 'cost': 27}), ('Den Haag', 'Gouda', {'src': 'Den Haag', 'dst': 'Gouda', 'relationship': 'EROAD', 'cost': 32}), ('Rotterdam', 'Gouda', {'src': 'Gouda', 'dst': 'Rotterdam', 'relationship': 'EROAD', 'cost': 25}), ('Rotterdam', 'Hoek van Holland', {'src': 'Hoek van Holland', 'dst': 'Rotterdam', 'relationship': 'EROAD', 'cost': 33}), ('Immingham', 'Doncaster', {'src': 'Immingham', 'dst': 'Doncaster', 'relationship': 'EROAD', 'cost': 74}), ('Doncaster', 'London', {'src': 'Doncaster', 'dst': 'London', 'relationship': 'EROAD', 'cost': 277}), ('London', 'Colchester', {'src': 'London', 'dst': 'Colchester', 'relationship': 'EROAD', 'cost': 106}), ('Hoek van Holland', 'Felixstowe', {'src': 'Felixstowe', 'dst': 'Hoek van Holland', 'relationship': 'EROAD', 'cost': 207}), ('Felixstowe', 'Ipswich', {'src': 'Ipswich', 'dst': 'Felixstowe', 'relationship': 'EROAD', 'cost': 22}), ('Ipswich', 'Colchester', {'src': 'Colchester', 'dst': 'Ipswich', 'relationship': 'EROAD', 'cost': 32})])"
      ]
     },
     "execution_count": 32,
     "metadata": {},
     "output_type": "execute_result"
    }
   ],
   "source": [
    "g.edges.data()"
   ]
  },
  {
   "cell_type": "raw",
   "metadata": {},
   "source": [
    "Representer les noeuds sur une carte avec Folium"
   ]
  },
  {
   "cell_type": "code",
   "execution_count": 11,
   "metadata": {},
   "outputs": [],
   "source": [
    "import folium\n",
    "'''\n",
    "On construit le Map avec une location par defaut\n",
    "'''\n",
    "basemap = folium.Map(\n",
    "    location=[52.3791890, 4.899431],\n",
    "    zoom_start=12,\n",
    "    tiles='Stamen Toner'\n",
    ")\n",
    "basemap.save('basemap1.html')"
   ]
  },
  {
   "cell_type": "code",
   "execution_count": 12,
   "metadata": {},
   "outputs": [
    {
     "data": {
      "text/html": [
       "<div style=\"width:100%;\"><div style=\"position:relative;width:100%;height:0;padding-bottom:60%;\"><span style=\"color:#565656\">Make this Notebook Trusted to load map: File -> Trust Notebook</span><iframe src=\"about:blank\" style=\"position:absolute;width:100%;height:100%;left:0;top:0;border:none !important;\" data-html=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 onload=\"this.contentDocument.open();this.contentDocument.write(atob(this.getAttribute('data-html')));this.contentDocument.close();\" allowfullscreen webkitallowfullscreen mozallowfullscreen></iframe></div></div>"
      ],
      "text/plain": [
       "<folium.folium.Map at 0x20dc9307848>"
      ]
     },
     "execution_count": 12,
     "metadata": {},
     "output_type": "execute_result"
    }
   ],
   "source": [
    "basemap"
   ]
  },
  {
   "cell_type": "code",
   "execution_count": null,
   "metadata": {},
   "outputs": [],
   "source": [
    "Ajouter des marqueurs pour tous les noeuds du reseau avec folium.Marker"
   ]
  },
  {
   "cell_type": "code",
   "execution_count": 33,
   "metadata": {},
   "outputs": [
    {
     "data": {
      "text/html": [
       "<div style=\"width:100%;\"><div style=\"position:relative;width:100%;height:0;padding-bottom:60%;\"><span style=\"color:#565656\">Make this Notebook Trusted to load map: File -> Trust Notebook</span><iframe src=\"about:blank\" style=\"position:absolute;width:100%;height:100%;left:0;top:0;border:none !important;\" data-html=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 onload=\"this.contentDocument.open();this.contentDocument.write(atob(this.getAttribute('data-html')));this.contentDocument.close();\" allowfullscreen webkitallowfullscreen mozallowfullscreen></iframe></div></div>"
      ],
      "text/plain": [
       "<folium.folium.Map at 0x20dc9307848>"
      ]
     },
     "execution_count": 33,
     "metadata": {},
     "output_type": "execute_result"
    }
   ],
   "source": [
    "for i in g.node:\n",
    "    folium.Marker([g.node[i]['latitude'],g.node[i]['longitude']],tooltip = 'Population '+str(g.node[i]['longitude'])).add_to(basemap)\n",
    "basemap"
   ]
  },
  {
   "cell_type": "code",
   "execution_count": 34,
   "metadata": {},
   "outputs": [],
   "source": [
    "'''\n",
    "Cette fonction permet de construire une liste de liste comprenant pour chaque\n",
    "sous-liste ses coordonnées et celles d'un voisin\n",
    "Ces points peuvent etre utilisés pour représenter les lignes dans la carte\n",
    "Input: le graphe\n",
    "Output: Une liste de couples representant les longitudes et latitudes d'un point et d'un de ses voisins\n",
    "'''\n",
    "def construirePointsImage(myGraphe):\n",
    "    points = []\n",
    "    for i in myGraphe.node:\n",
    "        \n",
    "        for neighbor in myGraphe.neighbors(i):\n",
    "            S = []\n",
    "            S.append([myGraphe.node[i][\"latitude\"],myGraphe.node[i][\"longitude\"]])\n",
    "            S.append([myGraphe.node[neighbor][\"latitude\"],myGraphe.node[neighbor][\"longitude\"]])\n",
    "            points.append(S)\n",
    "    return points\n",
    "        "
   ]
  },
  {
   "cell_type": "code",
   "execution_count": 35,
   "metadata": {},
   "outputs": [
    {
     "data": {
      "text/plain": [
       "[[[52.379189000000004, 4.899431], [52.092876000000004, 5.104480000000001]],\n",
       " [[52.379189000000004, 4.899431], [52.078663, 4.288787999999999]],\n",
       " [[52.379189000000004, 4.899431], [53.612390000000005, -0.22219]],\n",
       " [[52.092876000000004, 5.104480000000001], [52.379189000000004, 4.899431]],\n",
       " [[52.092876000000004, 5.104480000000001], [52.01667, 4.70833]],\n",
       " [[52.078663, 4.288787999999999], [52.379189000000004, 4.899431]],\n",
       " [[52.078663, 4.288787999999999], [51.9225, 4.47917]],\n",
       " [[52.078663, 4.288787999999999], [51.9775, 4.13333]],\n",
       " [[52.078663, 4.288787999999999], [52.01667, 4.70833]],\n",
       " [[51.9225, 4.47917], [52.078663, 4.288787999999999]],\n",
       " [[51.9225, 4.47917], [52.01667, 4.70833]],\n",
       " [[51.9225, 4.47917], [51.9775, 4.13333]],\n",
       " [[53.612390000000005, -0.22219], [52.379189000000004, 4.899431]],\n",
       " [[53.612390000000005, -0.22219], [53.52285, -1.13116]],\n",
       " [[53.52285, -1.13116], [53.612390000000005, -0.22219]],\n",
       " [[53.52285, -1.13116], [51.509865000000005, -0.118092]],\n",
       " [[51.509865000000005, -0.118092], [53.52285, -1.13116]],\n",
       " [[51.509865000000005, -0.118092], [51.88921, 0.9042100000000001]],\n",
       " [[51.9775, 4.13333], [52.078663, 4.288787999999999]],\n",
       " [[51.9775, 4.13333], [51.96375, 1.3511]],\n",
       " [[51.9775, 4.13333], [51.9225, 4.47917]],\n",
       " [[51.96375, 1.3511], [51.9775, 4.13333]],\n",
       " [[51.96375, 1.3511], [52.05917, 1.15545]],\n",
       " [[52.05917, 1.15545], [51.96375, 1.3511]],\n",
       " [[52.05917, 1.15545], [51.88921, 0.9042100000000001]],\n",
       " [[51.88921, 0.9042100000000001], [52.05917, 1.15545]],\n",
       " [[51.88921, 0.9042100000000001], [51.509865000000005, -0.118092]],\n",
       " [[52.01667, 4.70833], [51.9225, 4.47917]],\n",
       " [[52.01667, 4.70833], [52.092876000000004, 5.104480000000001]],\n",
       " [[52.01667, 4.70833], [52.078663, 4.288787999999999]]]"
      ]
     },
     "execution_count": 35,
     "metadata": {},
     "output_type": "execute_result"
    }
   ],
   "source": [
    "coordonneesvoisins = construirePointsImage(g)\n",
    "coordonneesvoisins"
   ]
  },
  {
   "cell_type": "code",
   "execution_count": null,
   "metadata": {},
   "outputs": [],
   "source": [
    "TODO: Visualiser une carte du graphe avec ses noeuds et les arcs sous forme lignes"
   ]
  },
  {
   "cell_type": "code",
   "execution_count": 15,
   "metadata": {},
   "outputs": [],
   "source": [
    "import folium\n",
    "'''\n",
    "A faire\n",
    "Permet de visualiser une carte du graphe avec ses noeuds et les arcs sous forme lignes\n",
    "Prend en entrée:\n",
    "- un graphe\n",
    "- les coordonnées entre chaque point et ses voisins calculées avec la fonction ci-dessus\n",
    "- Une location par defaut\n",
    "- Un paramétrage de folium\n",
    "Output: la carte\n",
    "'''\n",
    "        \n",
    "def visualiserFolium(myGraphe, points, locationpardefaut = [52.3791890, 4.899431],tiles='Stamen Toner' ):\n",
    "  \n",
    "    basemap = folium.Map(location=locationpardefaut,zoom_start=5,tiles=tiles)\n",
    "        \n",
    "    for i in myGraphe.node:\n",
    "        folium.Marker([myGraphe.node[i]['latitude'],myGraphe.node[i]['longitude']],tooltip = 'Population '+str(g.node[i]['population'])).add_to(basemap)\n",
    "    folium.PolyLine(construirePointsImage(myGraphe), color=\"red\", weight=2.5, opacity=1).add_to(basemap)\n",
    "    return basemap"
   ]
  },
  {
   "cell_type": "code",
   "execution_count": 84,
   "metadata": {},
   "outputs": [
    {
     "data": {
      "text/html": [
       "<div style=\"width:100%;\"><div style=\"position:relative;width:100%;height:0;padding-bottom:60%;\"><span style=\"color:#565656\">Make this Notebook Trusted to load map: File -> Trust Notebook</span><iframe src=\"about:blank\" style=\"position:absolute;width:100%;height:100%;left:0;top:0;border:none !important;\" data-html=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 onload=\"this.contentDocument.open();this.contentDocument.write(atob(this.getAttribute('data-html')));this.contentDocument.close();\" allowfullscreen webkitallowfullscreen mozallowfullscreen></iframe></div></div>"
      ],
      "text/plain": [
       "<folium.folium.Map at 0x20dc9473788>"
      ]
     },
     "execution_count": 84,
     "metadata": {},
     "output_type": "execute_result"
    }
   ],
   "source": [
    "visualiserFolium(g, g.node, locationpardefaut = [52.3791890, 4.899431],tiles='Stamen Toner')"
   ]
  },
  {
   "cell_type": "code",
   "execution_count": 1,
   "metadata": {},
   "outputs": [],
   "source": [
    "##Partie 2"
   ]
  },
  {
   "cell_type": "markdown",
   "metadata": {},
   "source": [
    "#### Implementer la classe Noeud\n",
    "* Un noeud a un nom\n",
    "* Un noeud a des attributs sous forme de dictionnaire pyton avec comme cle:\n",
    "    une liste de coordonnes ( latitude, longitude)\n",
    "    \n",
    "    la taille de la population\n",
    "* La liste des voisins sera initialisée à la création des arcs dans le graphe \n",
    "*  Vous ajouterez toutes les methodes nécessaires \n",
    "        \n",
    "    \n",
    "        "
   ]
  },
  {
   "cell_type": "code",
   "execution_count": 71,
   "metadata": {},
   "outputs": [],
   "source": [
    "class Noeud:\n",
    "    def __init__(self,name):\n",
    "        self.name = name\n",
    "        self.attributs = {}\n",
    "        self.listeNomVoisin = []\n",
    "        \n",
    "    def setAttribut(self,key, values): \n",
    "        return {x:y for x,y in zip(key, values)}\n",
    "    \n",
    "    def getAttribut(self,key):\n",
    "        return self.key\n",
    "    \n",
    "    def getName(self):\n",
    "        return self.name\n",
    "    '''\n",
    "    Deux noeuds sont egaux s'ils ont même name\n",
    "    '''\n",
    "    def egal(self, noeud):\n",
    "        if self.name == noeud.name:\n",
    "            return True\n",
    "        else:\n",
    "            return False"
   ]
  },
  {
   "cell_type": "code",
   "execution_count": 114,
   "metadata": {},
   "outputs": [
    {
     "ename": "SyntaxError",
     "evalue": "invalid syntax (<ipython-input-114-dd892403eae1>, line 2)",
     "output_type": "error",
     "traceback": [
      "\u001b[1;36m  File \u001b[1;32m\"<ipython-input-114-dd892403eae1>\"\u001b[1;36m, line \u001b[1;32m2\u001b[0m\n\u001b[1;33m    * Les noeuds des graphes doivent être initialisé à l'aide du fichier\u001b[0m\n\u001b[1;37m               ^\u001b[0m\n\u001b[1;31mSyntaxError\u001b[0m\u001b[1;31m:\u001b[0m invalid syntax\n"
     ]
    }
   ],
   "source": [
    "#### Implementer la classe Graphe\n",
    "* Les noeuds des graphes doivent être initialisé à l'aide du fichier \n",
    "transport-node.csv ( vous n'utiliserez plus pandas). Vous initiliserez aussi les attributs\n",
    "* Les arcs des graphes doivent être initialisé à l'aide du fichier \n",
    "transport-relations.csv ( vous n'utiliserez plus pandas). Vous initiliserez aussi les attributs\n",
    "* On doit pouvoir retrouver les coordonnées d'un noeud grâce à son nom\n",
    "* On doit avoir la liste des noeuds voisins d'un noeud donné. Le graphe est non orienté donc le voisinage est reciproque\n",
    "        "
   ]
  },
  {
   "cell_type": "code",
   "execution_count": 20,
   "metadata": {},
   "outputs": [],
   "source": [
    "import networkx as nx\n",
    "import csv\n",
    "class Graphe:\n",
    "    '''\n",
    "    Les noeuds seront mis dans une liste\n",
    "    Les arcs forment un dictionnaire avec comme clé les noms des noeuds et comme valeurs une liste de noeud\n",
    "    '''\n",
    "    def __init__(self):\n",
    "        self.noeuds = []\n",
    "        self.arcs = {}\n",
    "    '''\n",
    "    Creer les neouds avec un fichier csv\n",
    "    On peut mettre tous les noeuds dans une liste\n",
    "    On doit attribuer à chaque noeud ses attributs: latitude, longitude, population\n",
    "    On initialise le dictionnaire des arcs en creant la cle avec le nom du noeud et la valeur avec une liste vide\n",
    "    N'oubliez pas de gerer les exceptions\n",
    "    '''    \n",
    "    def creerNoeuds(self,fichiernoeuds):\n",
    "        G = nx.Graph()\n",
    "        import csv, sys\n",
    "        with open(fichiernoeuds, newline='') as f:\n",
    "            reader = csv.reader(f)\n",
    "            try:\n",
    "                for row in reader:\n",
    "                    print(row)\n",
    "            except csv.Error as e:\n",
    "                sys.exit('file {}, line {}: {}'.format(fichiernoeuds, reader.line_num, e))\n",
    "        listenoeud = [ i for i in fichiernoeuds]\n",
    "        self.noeuds = G.add_nodes_from(['latitude', 'longitude', 'population'])\n",
    "        \n",
    "        return self.noeuds\n",
    "        \n",
    "    '''\n",
    "    - Creer les arcs avec un  fichier csv\n",
    "    - Utilisez un dictionnaire pour les arcs\n",
    "    - N'oubliez pas que le graphe est non oriente.\n",
    "    - Pour chaque noeud on mettra des tuples dans la liste de ses voisins: (nom du voisin, cout du chemin)\n",
    "    - Gerer les exceptions\n",
    "    '''   \n",
    "    def creerArc(self, fichierarcs):\n",
    "        import csv\n",
    "        reader = csv.reader(open(fichierarcs))\n",
    "\n",
    "        result = {}\n",
    "        for row in reader:\n",
    "            key = row[0]\n",
    "            if key in result:\n",
    "                pass\n",
    "            result[key] = row[1:]\n",
    "        print(result)\n",
    "    '''\n",
    "    Retrouver un noeud à partir de son nom\n",
    "    '''   \n",
    "    def getNoeud(self,name):\n",
    "        for i in range (len(self.noeuds)):\n",
    "            if self.noeuds[i] == self.name:\n",
    "                return self.noeuds[i]\n",
    "            else:\n",
    "                return False\n",
    "        \n",
    "    '''\n",
    "    Trouver les noeuds voisins d'un noeud donne\n",
    "    '''\n",
    "    \n",
    "    def euclidean_distance(self, noeuds, name):\n",
    "        distance = 0.0\n",
    "        for i in range(len(self.noeuds)-1):\n",
    "            distance += (self.noeuds[i] - self.name[i])**2\n",
    "        return sqrt(distance)\n",
    "\n",
    "    def getVoisins(self, noeuds, j, num_voisins):\n",
    "        distances = {}\n",
    "        for i in self.noeuds:\n",
    "            dist = euclidean_distance(j, i)\n",
    "            distances.append((i, dist))\n",
    "        distances.sort(key=lambda tup: tup[1])\n",
    "        voisins = {}\n",
    "        for i in range(num_voisins):\n",
    "            voisins.append(distances[i][0])\n",
    "        return voisins\n",
    "                    \n",
    "                    \n",
    "    \n",
    "    '''\n",
    "    Recuperer pour un noeud donne les latitudes et longitudes de ses voisins\n",
    "    Constituer des pairs de listes de coordonnées entre le point et ses voisins\n",
    "    pour une representation sous folium\n",
    "    \n",
    "    '''\n",
    "    def getCoordonnesVoisins(self, noeud):\n",
    "        listecoord = []\n",
    "        # voise est un tuple et je veux recuperer le nom du noeud voisin \n",
    "        # qui est le premier lement du tuple\n",
    "        \n",
    "        for voise in self.getVoisins(noeud):\n",
    "            # Recupere un noeud voisin\n",
    "            noeudVoisin = self.getNoeud(voise[0])\n",
    "            listecoord.append([noeud.getAttribut('coordonnees'),noeudVoisin.getAttribut('coordonnees')])\n",
    "        return listecoord\n",
    "    \n",
    "    '''\n",
    "    Recuperer les coordonnees d'une liste de neouds pour visualiser sous folium\n",
    "    Prend en entrée une liste de nom de noeud\n",
    "    Retourne une liste de sous-listes à deux elements de coordonnées\n",
    "    '''\n",
    "    def getListeCoordonnees(self,listeNoeuds):\n",
    "        coord = []\n",
    "        for name in listeNoeuds:\n",
    "            coord.append(self.getNoeud(name).getAttribut('coordonnees'))\n",
    "        return coord\n",
    "    \n",
    "    '''\n",
    "    Visualiser les noeuds et les arcs sous folium\n",
    "    Entree: le parametre explored sera utilisé pour les parcours de graphe\n",
    "    '''\n",
    "    \n",
    "    def visualiserFolium(self, locationpardefaut = [52.3791890, 4.899431],tiles='Stamen Toner',explored = None ):\n",
    "    \n",
    "        basemap = folium.Map(location= locationpardefaut,zoom_start=6,tiles=tiles)\n",
    "        \n",
    "        for i in self.noeuds:\n",
    "            \n",
    "            folium.Marker(i.getAttribut('coordonnees'),tooltip = 'Population '+str(i.getAttribut('population'))).add_to(basemap)\n",
    "            locations = self.getCoordonnesVoisins(i)\n",
    "            if len(locations)!= 0:\n",
    "                folium.PolyLine(self.getCoordonnesVoisins(i), color=\"red\", weight=2.5, opacity=1).add_to(basemap)\n",
    "        if explored != None:\n",
    "            folium.PolyLine(self.getListeCoordonnees(explored), color=\"green\", weight=2.5, opacity=1).add_to(basemap)\n",
    "        return basemap"
   ]
  },
  {
   "cell_type": "code",
   "execution_count": 13,
   "metadata": {},
   "outputs": [
    {
     "name": "stdout",
     "output_type": "stream",
     "text": [
      "['id', 'latitude', 'longitude', 'population']\n",
      "['Amsterdam', '52.379189', '4.899431', '821752']\n",
      "['Utrecht', '52.092876', '5.104480', '334176']\n",
      "['Den Haag', '52.078663', '4.288788', '514861']\n",
      "['Immingham', '53.61239', '-0.22219', '9642']\n",
      "['Doncaster', '53.52285', '-1.13116', '302400']\n",
      "['Hoek van Holland', '51.9775', '4.13333', '9382']\n",
      "['Felixstowe', '51.96375', '1.3511', '23689']\n",
      "['Ipswich', '52.05917', '1.15545', '133384']\n",
      "['Colchester', '51.88921', '0.90421', '104390']\n",
      "['London', '51.509865', '-0.118092', '8787892']\n",
      "['Rotterdam', '51.9225', '4.47917', '623652']\n",
      "['Gouda', '52.01667', '4.70833', '70939']\n"
     ]
    }
   ],
   "source": [
    "G = Graphe()\n",
    "G.creerNoeuds('transport-nodes.csv')"
   ]
  },
  {
   "cell_type": "code",
   "execution_count": 80,
   "metadata": {},
   "outputs": [
    {
     "name": "stdout",
     "output_type": "stream",
     "text": [
      "{'src': ['dst', 'relationship', 'cost'], 'Amsterdam': ['Immingham', 'EROAD', '369'], 'Den Haag': ['Gouda', 'EROAD', '32'], 'Immingham': ['Doncaster', 'EROAD', '74'], 'Doncaster': ['London', 'EROAD', '277'], 'Hoek van Holland': ['Rotterdam', 'EROAD', '33'], 'Felixstowe': ['Hoek van Holland', 'EROAD', '207'], 'Ipswich': ['Felixstowe', 'EROAD', '22'], 'Colchester': ['Ipswich', 'EROAD', '32'], 'London': ['Colchester', 'EROAD', '106'], 'Gouda': ['Utrecht', 'EROAD', '35']}\n"
     ]
    }
   ],
   "source": [
    "G.creerArc('transport-relationships.csv')"
   ]
  },
  {
   "cell_type": "code",
   "execution_count": 16,
   "metadata": {
    "scrolled": false
   },
   "outputs": [
    {
     "data": {
      "text/html": [
       "<div style=\"width:100%;\"><div style=\"position:relative;width:100%;height:0;padding-bottom:60%;\"><span style=\"color:#565656\">Make this Notebook Trusted to load map: File -> Trust Notebook</span><iframe src=\"about:blank\" style=\"position:absolute;width:100%;height:100%;left:0;top:0;border:none !important;\" data-html=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 onload=\"this.contentDocument.open();this.contentDocument.write(atob(this.getAttribute('data-html')));this.contentDocument.close();\" allowfullscreen webkitallowfullscreen mozallowfullscreen></iframe></div></div>"
      ],
      "text/plain": [
       "<folium.folium.Map at 0x26877d14148>"
      ]
     },
     "execution_count": 16,
     "metadata": {},
     "output_type": "execute_result"
    }
   ],
   "source": [
    "G = Graphe()\n",
    "G.visualiserFolium()"
   ]
  },
  {
   "cell_type": "code",
   "execution_count": null,
   "metadata": {},
   "outputs": [],
   "source": [
    "Partie 3\n",
    "Implementer les classes File et Pile en utilisant les list en python\n",
    "Quelques liens interessants: https://openclassrooms.com/fr/courses/900279-apprenez-a-programmer-avec-ada/2144666-les-types-abstraits-de-donnees-listes-files-piles\n",
    "https://fr.wikipedia.org/wiki/Type_abstrait\n",
    "\n",
    "http://www.csi.uottawa.ca/~flocchin/CSI2510/CSI2510PileFile.pdf"
   ]
  },
  {
   "cell_type": "code",
   "execution_count": 3,
   "metadata": {},
   "outputs": [],
   "source": [
    "class Pile():\n",
    "    '''\n",
    "    Classe Pile: voir les definitions ci-dessous\n",
    "    La classe dispose d'une structure de type list pour ranger les données\n",
    "    Les consultations, les insertions, les suppressions se font du même cote\n",
    "    Dernier arrive premier servi : LIFO\n",
    "    '''\n",
    "    def __init__(self):\n",
    "        self.elements = []\n",
    "    '''\n",
    "    Insere un objet en tete de la pile\n",
    "    '''\n",
    "    def push(self,noeud):\n",
    "        return self.elements.append(noeud)\n",
    "    '''\n",
    "    Retourne True si  un noeud est dans la pile\n",
    "    '''\n",
    "    \n",
    "    def contains_noeud(self, name):\n",
    "        if name in self.elements:\n",
    "            return True\n",
    "        else:\n",
    "            return False\n",
    "                \n",
    "    '''\n",
    "    Retourne true si la pile est vide\n",
    "    '''\n",
    "    def empty(self):\n",
    "        if not self.elements:\n",
    "            return True\n",
    "        else:\n",
    "            return False\n",
    "    '''\n",
    "    Retourne et supprime l'element en tete de pile\n",
    "    Retourne une exception si la pile est vide\n",
    "    '''\n",
    "    def remove(self):\n",
    "        try:\n",
    "            return self.elements.pop()\n",
    "        except:\n",
    "            print(\"La pile est vide !\")\n",
    "\n"
   ]
  },
  {
   "cell_type": "code",
   "execution_count": 118,
   "metadata": {},
   "outputs": [
    {
     "name": "stdout",
     "output_type": "stream",
     "text": [
      "True\n",
      "False\n",
      "[11, 12, 13, 14, 15]\n",
      "[11, 12, 13, 14]\n"
     ]
    }
   ],
   "source": [
    "P = Pile()\n",
    "print(P.empty())\n",
    "print(P.contains_noeud(8))\n",
    "P.push(11)\n",
    "P.push(12)\n",
    "P.push(13)\n",
    "P.push(14)\n",
    "P.push(15)\n",
    "print(P.elements)\n",
    "P.remove()\n",
    "print(P.elements)"
   ]
  },
  {
   "cell_type": "code",
   "execution_count": 4,
   "metadata": {},
   "outputs": [],
   "source": [
    "\n",
    "class File(Pile):\n",
    "    '''\n",
    "    Classe File: voir les definitions ci-dessous\n",
    "    La classe dispose d'une structure de type list pour ranger les données\n",
    "    Les éléments sont enfilés (insérés) du coté arrière et défilés (retirés)\n",
    "    du coté avant\n",
    "    Premier arrive premier servi : FIFO\n",
    "    File et Pile peuvent partager certaines methodes donc utilisez l'heritage pour definir\n",
    "    la classe File. \n",
    "    Normalement vous ne devez changer l'implementation d'une seule methode\n",
    "    '''\n",
    "\n",
    "    def remove(self):\n",
    "        if len(self.elements) == 0:\n",
    "            print(\"\\nImpossible : la queue est vide !\")\n",
    "        else:\n",
    "            print(\"\\nElement '{:d}' supprime\".format(self.elements.pop(0)))\n",
    "        "
   ]
  },
  {
   "cell_type": "code",
   "execution_count": 120,
   "metadata": {},
   "outputs": [
    {
     "name": "stdout",
     "output_type": "stream",
     "text": [
      "True\n",
      "False\n",
      "[11, 12, 13, 14, 15]\n",
      "\n",
      "Element '11' supprime\n",
      "[12, 13, 14, 15]\n"
     ]
    }
   ],
   "source": [
    "P = File()\n",
    "print(P.empty())\n",
    "print(P.contains_noeud(8))\n",
    "P.push(11)\n",
    "P.push(12)\n",
    "P.push(13)\n",
    "P.push(14)\n",
    "P.push(15)\n",
    "print(P.elements)\n",
    "P.remove()\n",
    "print(P.elements)"
   ]
  },
  {
   "cell_type": "code",
   "execution_count": null,
   "metadata": {},
   "outputs": [],
   "source": [
    "Partie 3\n",
    "Implementer les algorithmes de parcours de graphe: BFS ET DFS\n",
    "Algorithme BFS et DFS https://fr.wikipedia.org/wiki/Algorithme_de_parcours_en_largeur https://fr.wikipedia.org/wiki/Algorithme_de_parcours_en_profondeur Les deux parcours utilisent le même algorithme mais différent suivant la structure de données utilisée comme frontiére. La frontiére est une structure de données qui permet manipuler les noeuds intermediaires.\n",
    "Algorithme\n",
    "On met le noeud source dans la frontiére\n",
    "On cree une structure vide devant contenir les noeuds explorés\n",
    "Repeter\n",
    "Si la frontiere est vide pas de solution\n",
    "Prendre un noeud dans la frontiere ( idée de suppression)\n",
    "Si le noeud est le noeud destination alors solution\n",
    "Sinon:\n",
    "Mettre le noeud dans l'ensemble des noeuds deja explorés\n",
    "Ajouter les voisins dans la frontiére s'ils ne sont pas dans la frontiere et s'ils ne sont pas deja explores"
   ]
  },
  {
   "cell_type": "code",
   "execution_count": 10,
   "metadata": {},
   "outputs": [],
   "source": [
    "'''\n",
    "Implémenter le parcours en profondeur non recursif entre deux noeuds\n",
    "Prend en parametre:\n",
    "- un graphe\n",
    "- un noeud source\n",
    "- un noeud destination\n",
    "Output:\n",
    "une liste contenant les noms des noeuds explorés pour aller du noeud source vers le noeud destination \n",
    "Vous completerez certaines parties du code\n",
    "'''\n",
    "\n",
    "def parcoursDFS(myGraphe,noeudSRC,noeudDST):\n",
    "        \"\"\"Trouver un parcours DFS entre noeudSRC et noeudDST\"\"\"\n",
    "\n",
    "        # Le nombre de noeuds explorés\n",
    "        num_explored = 0\n",
    "\n",
    "        # Initialisation de la frontiere avec le noeud source\n",
    "        \n",
    "        frontiere = Pile() \n",
    "        frontiere.push(noeudSRC)\n",
    "\n",
    "        # Initialisation de la liste des noeuds explorés\n",
    "        explored = []\n",
    "\n",
    "        # On boucle jusuq'à trouver la solution\n",
    "        while True:\n",
    "\n",
    "            # S'il n'y a aucun noeud dans la frontiére alors pas de solution\n",
    "            if frontiere.empty():\n",
    "                raise Exception(\"no solution\")\n",
    "\n",
    "            # Choisir un node dans la frontiere\n",
    "            node = frontiere.remove()\n",
    "            num_explored += 1\n",
    "\n",
    "            # Si ce noeud est le noeud destination\n",
    "            if node.egal(noeudDST):\n",
    "                \n",
    "                # Ajouter le aux noeuds deja explorés\n",
    "                explored.append(noeudDST)\n",
    "                \n",
    "                return explored, num_explored\n",
    "\n",
    "            # Marquer le noeud comme explore\n",
    "            explored.append(node)\n",
    "\n",
    "            # Ajouter tous les voisins du noeud à la frontiere\n",
    "            for n in myGraphe.getVoisins(node):\n",
    "                \n",
    "                if not frontiere.contains_noeud(n.name) and n not in explored:\n",
    "                    frontiere.push(n)\n",
    "            return explored, num_explored"
   ]
  },
  {
   "cell_type": "code",
   "execution_count": null,
   "metadata": {},
   "outputs": [],
   "source": [
    "# Visualisation des arcs en rouge et visualisation des noeuds parcourus pour aller du premier au deuxieme noeud en vert\n",
    "G = Graphe()\n",
    "G.visualiserFolium(explored = list(parcoursDFS(G,G.noeuds[0],G.noeuds[1])[0]))"
   ]
  },
  {
   "cell_type": "code",
   "execution_count": 72,
   "metadata": {},
   "outputs": [],
   "source": [
    "#### TODO: Implementer le parcours en profondeur recursif et calculer le coût du chemin"
   ]
  },
  {
   "cell_type": "code",
   "execution_count": null,
   "metadata": {},
   "outputs": [],
   "source": [
    "#### TODO: Implementer le parcours BFS et calculer le coût du chemin"
   ]
  },
  {
   "cell_type": "code",
   "execution_count": 74,
   "metadata": {},
   "outputs": [],
   "source": [
    "'''\n",
    "Implémenter le parcours en largeur non entre deux noeuds\n",
    "'''\n",
    "\"\"\"Trouver un parcours DFS entre noeudSRC et noeudDST\"\"\"\n",
    "\n",
    "def parcoursBFS(myGraphe,noeudSRC,noeudDST):\n",
    "    # Le nombre de noeuds explorés\n",
    "    num_explored = 0\n",
    "\n",
    "    # Initialisation de la frontiere avec le noeud source\n",
    "        \n",
    "    frontiere = File() \n",
    "    frontiere.push(noeudSRC)\n",
    "\n",
    "    # Initialisation de la liste des noeuds explorés\n",
    "    explored = []\n",
    "\n",
    "    # On boucle jusuq'à trouver la solution\n",
    "    while True:\n",
    "\n",
    "    # S'il n'y a aucun noeud dans la frontiére alors pas de solution\n",
    "        if frontiere.empty():\n",
    "            raise Exception(\"no solution\")\n",
    "\n",
    "        # Choisir un node dans la frontiere\n",
    "        node = frontiere.popleft()\n",
    "        num_explored += 1\n",
    "\n",
    "        # Si ce noeud est le noeud destination\n",
    "        if node.egal(noeudDST):\n",
    "                \n",
    "            # Ajouter le aux noeuds deja explorés\n",
    "            explored.append(noeudDST)\n",
    "                \n",
    "            return explored, num_explored\n",
    "\n",
    "        # Marquer le noeud comme explore\n",
    "        explored.append(node)\n",
    "       # Ajouter tous les voisins du noeud à la frontiere\n",
    "        for n in myGraphe.getVoisins(node): \n",
    "            \n",
    "            if not frontiere.contains_noeud(n.name) and n not in explored:\n",
    "                frontiere.push(n)\n",
    "        return explored, num_explored\n"
   ]
  },
  {
   "cell_type": "code",
   "execution_count": null,
   "metadata": {},
   "outputs": [],
   "source": [
    "G.visualiserFolium(explored = list(parcoursBFS(G,G.noeuds[0],G.noeuds[1])[0]))"
   ]
  },
  {
   "cell_type": "code",
   "execution_count": null,
   "metadata": {},
   "outputs": [],
   "source": [
    "Partie 4\n",
    "Implementer les algorithmes A star où le choix se portera sur le voisin ayant le plus petit coût\n",
    "TODO: Implementer le parcours avec l'algorithme du Greedy Best First Search. Vous calculerez les coûts de chape noeud par rapport\n",
    "au noeud destination\n",
    "\n",
    "TODO: Implementer le parcours avec l'algorithme du A*. Vous calculerez les coûts de chape noeud par rapport\n",
    "au noeud destination et au noeud origine\n",
    "\n",
    "https://www.mygreatlearning.com/blog/best-first-search-bfs/"
   ]
  },
  {
   "cell_type": "code",
   "execution_count": 21,
   "metadata": {},
   "outputs": [],
   "source": [
    "from decimal import Decimal\n",
    "\n",
    "import networkx as nx\n",
    "\n",
    "\n",
    "def calculate_g_values(graph):\n",
    "    g_values = {}\n",
    "    for node in graph.node():\n",
    "        try:\n",
    "            g_values.update({node: nx.shortest_path_length(graph, 0, node, 'weight')})\n",
    "        except nx.NetworkXNoPath:\n",
    "            g_values.update({node: Decimal('Infinity')})\n",
    "    return g_values\n",
    "\n",
    "\n",
    "def calculate_h_values(graph, destination):\n",
    "    h_values = {}\n",
    "    for node in graph.node():\n",
    "        try:\n",
    "            h_values.update({node: nx.shortest_path_length(graph, node, destination, 'weight')})\n",
    "        except nx.NetworkXNoPath:\n",
    "            h_values.update({node: Decimal('Infinity')})\n",
    "    return h_values\n",
    "\n",
    "\n",
    "def SelectNode(open, h_values):\n",
    "    f_list = []\n",
    "    for val in open:\n",
    "        f_list.append(h_values.get(val))\n",
    "    min_f_val = min(f_list)\n",
    "    index = f_list.index(min_f_val)\n",
    "\n",
    "    if min_f_val != Decimal('Infinity'):\n",
    "        return open[index]\n",
    "    return -1\n",
    "\n",
    "\n",
    "def best_first_algo(graph, goal):\n",
    "    parent = {}\n",
    "    open = []\n",
    "    closed = []\n",
    "\n",
    "    g_values = calculate_g_values(graph)\n",
    "    h_values = calculate_h_values(graph, goal)\n",
    "    print(\"G Vals:    \", g_values)\n",
    "    print(\"h Vals:    \", h_values)\n",
    "\n",
    "    parent.update({0: 'none'})\n",
    "    open.append(0)\n",
    "\n",
    "    while open.__len__() != 0:\n",
    "        n = SelectNode(open, h_values)\n",
    "        if n == -1:\n",
    "            return []\n",
    "        print(\"Node selected   \", n)\n",
    "        open.remove(n)\n",
    "        if n == goal:\n",
    "            closed.append(goal)\n",
    "            if len(closed) == 0:\n",
    "                print(\"No solution exist (Best-First)\")\n",
    "            else:\n",
    "                print(\"Expanded Path nodes (Best-First):  \", closed)\n",
    "            return closed\n",
    "\n",
    "        for child in graph.successors(n):\n",
    "            if child in open:\n",
    "                if g_values.get(n) + graph[n][child]['weight'] < g_values.get(child):\n",
    "                    g_values.update({child: g_values.get(n) + graph[n][child]['weight']})\n",
    "                    parent.update({child: n})\n",
    "            elif child in closed:\n",
    "                if g_values.get(n) + graph[n][child]['weight'] < g_values.get(child):\n",
    "                    g_values.update({child: g_values.get(n) + graph[n][child]['weight']})\n",
    "                    parent.update({child: n})\n",
    "                    closed.remove(child)\n",
    "                    open.append(child)\n",
    "            else:\n",
    "                g_values.update({child: g_values.get(n) + graph[n][child]['weight']})\n",
    "                parent.update({child: n})\n",
    "                open.append(child)\n",
    "        closed.append(n)\n",
    "    return []"
   ]
  },
  {
   "cell_type": "code",
   "execution_count": null,
   "metadata": {},
   "outputs": [],
   "source": [
    "G = Graphe()\n",
    "print(best_first_algo(G,G.noeuds[1] ))"
   ]
  },
  {
   "cell_type": "code",
   "execution_count": 14,
   "metadata": {},
   "outputs": [
    {
     "name": "stdout",
     "output_type": "stream",
     "text": [
      "[(0, 0), (1, 1), (2, 2), (3, 3), (4, 3), (5, 4), (6, 5), (7, 6)]\n"
     ]
    }
   ],
   "source": [
    "class Node():\n",
    "\n",
    "    def __init__(self, parent=None, position=None):\n",
    "        self.parent = parent\n",
    "        self.position = position\n",
    "\n",
    "        self.g = 0\n",
    "        self.h = 0\n",
    "        self.f = 0\n",
    "\n",
    "    def __eq__(self, other):\n",
    "        return self.position == other.position\n",
    "\n",
    "\n",
    "def astar(maze, start, end):\n",
    "    \n",
    "    start_node = Node(None, start)\n",
    "    start_node.g = start_node.h = start_node.f = 0\n",
    "    end_node = Node(None, end)\n",
    "    end_node.g = end_node.h = end_node.f = 0\n",
    "    open_list = []\n",
    "    closed_list = []\n",
    "\n",
    "    open_list.append(start_node)\n",
    "    while len(open_list) > 0:\n",
    "        current_node = open_list[0]\n",
    "        current_index = 0\n",
    "        for index, item in enumerate(open_list):\n",
    "            if item.f < current_node.f:\n",
    "                current_node = item\n",
    "                current_index = index\n",
    "        open_list.pop(current_index)\n",
    "        closed_list.append(current_node)\n",
    "        if current_node == end_node:\n",
    "            path = []\n",
    "            current = current_node\n",
    "            while current is not None:\n",
    "                path.append(current.position)\n",
    "                current = current.parent\n",
    "            return path[::-1] \n",
    "        children = []\n",
    "        for new_position in [(0, -1), (0, 1), (-1, 0), (1, 0), (-1, -1), (-1, 1), (1, -1), (1, 1)]: # Adjacent squares\n",
    "\n",
    "            node_position = (current_node.position[0] + new_position[0], current_node.position[1] + new_position[1])\n",
    "            \n",
    "            if node_position[0] > (len(maze) - 1) or node_position[0] < 0 or node_position[1] > (len(maze[len(maze)-1]) -1) or node_position[1] < 0:\n",
    "                continue\n",
    "\n",
    "            if maze[node_position[0]][node_position[1]] != 0:\n",
    "                continue\n",
    "\n",
    "            new_node = Node(current_node, node_position)\n",
    "\n",
    "            children.append(new_node)\n",
    "\n",
    "        for child in children:\n",
    "            for closed_child in closed_list:\n",
    "                if child == closed_child:\n",
    "                    continue\n",
    "            child.g = current_node.g + 1\n",
    "            child.h = ((child.position[0] - end_node.position[0]) ** 2) + ((child.position[1] - end_node.position[1]) ** 2)\n",
    "            child.f = child.g + child.h\n",
    "            for open_node in open_list:\n",
    "                if child == open_node and child.g > open_node.g:\n",
    "                    continue\n",
    "\n",
    "            open_list.append(child)\n",
    "\n",
    "def main():\n",
    "\n",
    "    maze = [[0, 0, 0, 0, 1, 0, 0, 0, 0, 0],\n",
    "            [0, 0, 0, 0, 1, 0, 0, 0, 0, 0],\n",
    "            [0, 0, 0, 0, 1, 0, 0, 0, 0, 0],\n",
    "            [0, 0, 0, 0, 1, 0, 0, 0, 0, 0],\n",
    "            [0, 0, 0, 0, 1, 0, 0, 0, 0, 0],\n",
    "            [0, 0, 0, 0, 0, 0, 0, 0, 0, 0],\n",
    "            [0, 0, 0, 0, 1, 0, 0, 0, 0, 0],\n",
    "            [0, 0, 0, 0, 1, 0, 0, 0, 0, 0],\n",
    "            [0, 0, 0, 0, 1, 0, 0, 0, 0, 0],\n",
    "            [0, 0, 0, 0, 0, 0, 0, 0, 0, 0]]\n",
    "\n",
    "    start = (0, 0)\n",
    "    end = (7, 6)\n",
    "\n",
    "    path = astar(maze, start, end)\n",
    "    print(path)\n",
    "\n",
    "\n",
    "if __name__ == '__main__':\n",
    "    main()"
   ]
  },
  {
   "cell_type": "code",
   "execution_count": null,
   "metadata": {},
   "outputs": [],
   "source": []
  }
 ],
 "metadata": {
  "kernelspec": {
   "display_name": "Python 3",
   "language": "python",
   "name": "python3"
  },
  "language_info": {
   "codemirror_mode": {
    "name": "ipython",
    "version": 3
   },
   "file_extension": ".py",
   "mimetype": "text/x-python",
   "name": "python",
   "nbconvert_exporter": "python",
   "pygments_lexer": "ipython3",
   "version": "3.7.4"
  }
 },
 "nbformat": 4,
 "nbformat_minor": 2
}
